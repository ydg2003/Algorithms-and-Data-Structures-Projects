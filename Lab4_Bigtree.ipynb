{
  "cells": [
    {
      "cell_type": "markdown",
      "metadata": {
        "id": "Hxf65YAQV4NR"
      },
      "source": [
        "**Ejecute este comando al inicio, para instalar Bigtree en la ambiente**"
      ]
    },
    {
      "cell_type": "code",
      "execution_count": 3,
      "metadata": {
        "colab": {
          "base_uri": "https://localhost:8080/"
        },
        "id": "BCG-dBlE-qqX",
        "outputId": "503ab924-eca0-4182-ba94-332a9d4e4026"
      },
      "outputs": [
        {
          "name": "stdout",
          "output_type": "stream",
          "text": [
            "Collecting bigtree\n",
            "  Downloading bigtree-0.14.2-py3-none-any.whl (67 kB)\n",
            "\u001b[?25l     \u001b[90m━━━━━━━━━━━━━━━━━━━━━━━━━━━━━━━━━━━━━━━━\u001b[0m \u001b[32m0.0/67.1 kB\u001b[0m \u001b[31m?\u001b[0m eta \u001b[36m-:--:--\u001b[0m\r\u001b[2K     \u001b[91m━━━━━━━━━━━━━━━━━━━━━━━━━━━━━━━━━━━━\u001b[0m\u001b[91m╸\u001b[0m\u001b[90m━━━\u001b[0m \u001b[32m61.4/67.1 kB\u001b[0m \u001b[31m1.7 MB/s\u001b[0m eta \u001b[36m0:00:01\u001b[0m\r\u001b[2K     \u001b[90m━━━━━━━━━━━━━━━━━━━━━━━━━━━━━━━━━━━━━━━━\u001b[0m \u001b[32m67.1/67.1 kB\u001b[0m \u001b[31m1.6 MB/s\u001b[0m eta \u001b[36m0:00:00\u001b[0m\n",
            "\u001b[?25hInstalling collected packages: bigtree\n",
            "Successfully installed bigtree-0.14.2\n"
          ]
        }
      ],
      "source": [
        "!pip install bigtree"
      ]
    },
    {
      "cell_type": "markdown",
      "metadata": {
        "id": "Fxlq8yxCWBfF"
      },
      "source": [
        "**Ejemplo #1**"
      ]
    },
    {
      "cell_type": "code",
      "execution_count": 1,
      "metadata": {
        "colab": {
          "base_uri": "https://localhost:8080/"
        },
        "id": "sS404X-WWR4v",
        "outputId": "9d40ca4e-d20b-421a-9672-06a4e268f214"
      },
      "outputs": [
        {
          "name": "stdout",
          "output_type": "stream",
          "text": [
            "a\n",
            "├── b\n",
            "│   └── d\n",
            "└── c\n"
          ]
        }
      ],
      "source": [
        "from bigtree import Node, tree_to_dot\n",
        "\n",
        "root = Node(\"a\")\n",
        "b = Node(\"b\")\n",
        "c = Node(\"c\")\n",
        "d = Node(\"d\")\n",
        "\n",
        "root.children = [b, c]\n",
        "d.parent = b\n",
        "\n",
        "root.show()"
      ]
    },
    {
      "cell_type": "code",
      "execution_count": 10,
      "metadata": {
        "colab": {
          "base_uri": "https://localhost:8080/"
        },
        "id": "f6kKqMLj-dJy",
        "outputId": "b61d65f7-be47-4638-f3f2-a01205c601a9"
      },
      "outputs": [
        {
          "name": "stdout",
          "output_type": "stream",
          "text": [
            "a\n",
            "├── b\n",
            "│   └── d\n",
            "└── c\n"
          ]
        },
        {
          "data": {
            "text/plain": [
              "(Node(/a/b, ), Node(/a/c, ))"
            ]
          },
          "execution_count": 10,
          "metadata": {},
          "output_type": "execute_result"
        }
      ],
      "source": [
        "import pydot\n",
        "from bigtree import list_to_tree, tree_to_dict, tree_to_dot\n",
        "\n",
        "# Create tree from list, print tree\n",
        "root = list_to_tree([\"a/b/d\", \"a/c\"])\n",
        "root.show()\n",
        "root.children"
      ]
    },
    {
      "cell_type": "markdown",
      "metadata": {
        "id": "hJRz3TlQaOCT"
      },
      "source": [
        "**Crear Representacion (Figura) del arbol**"
      ]
    },
    {
      "cell_type": "code",
      "execution_count": 9,
      "metadata": {
        "id": "YeDKwOv5L-Zl"
      },
      "outputs": [],
      "source": [
        "\"\"\"\"\n",
        "#graph.write_png(\"tree.png\")\n",
        "# As a bytes literal:\n",
        "# output_graphviz_dot = graph.create_dot()\n",
        "# Or, save it as a DOT-file:\n",
        "# graph.write_dot('output_graphviz.dot')\n",
        "\"\"\"\n",
        "graph = tree_to_dot(root, node_colour=\"gold\")\n",
        "#graph.write_png(\"tree.png\")\n",
        "# As a string:\n",
        "output_raw_dot = graph.to_string()\n",
        "# Or, save it as a DOT-file:\n",
        "graph.write_raw('output_raw.dot')"
      ]
    },
    {
      "cell_type": "markdown",
      "metadata": {
        "id": "OC3ygoL8aVwf"
      },
      "source": [
        "**Ejemplo #2 - Recorrido**"
      ]
    },
    {
      "cell_type": "code",
      "execution_count": 10,
      "metadata": {
        "colab": {
          "base_uri": "https://localhost:8080/"
        },
        "id": "V2YSr60eL0WK",
        "outputId": "b3ba9bd1-837f-4d88-8b03-9aac3b5823ef"
      },
      "outputs": [
        {
          "name": "stdout",
          "output_type": "stream",
          "text": [
            "a\n",
            "├── b\n",
            "│   ├── d\n",
            "│   └── e\n",
            "└── c\n"
          ]
        }
      ],
      "source": [
        "from bigtree import Node, preorder_iter, postorder_iter, levelorder_iter, levelordergroup_iter, zigzag_iter, zigzaggroup_iter\n",
        "\n",
        "root = Node(\"a\")\n",
        "b = Node(\"b\", parent=root)\n",
        "c = Node(\"c\", parent=root)\n",
        "d = Node(\"d\", parent=b)\n",
        "e = Node(\"e\", parent=b)\n",
        "root.show()"
      ]
    },
    {
      "cell_type": "code",
      "execution_count": 11,
      "metadata": {
        "colab": {
          "base_uri": "https://localhost:8080/"
        },
        "id": "6HorbRpIam2P",
        "outputId": "e5c0dd50-3e5c-49f1-f795-bd87a7d0f230"
      },
      "outputs": [
        {
          "data": {
            "text/plain": [
              "['a', 'b', 'c', 'd', 'e']"
            ]
          },
          "execution_count": 11,
          "metadata": {},
          "output_type": "execute_result"
        }
      ],
      "source": [
        "[node.name for node in preorder_iter(root)]"
      ]
    },
    {
      "cell_type": "code",
      "execution_count": 12,
      "metadata": {
        "colab": {
          "base_uri": "https://localhost:8080/"
        },
        "id": "wozo5sAMapJM",
        "outputId": "c36f5406-18ae-457a-8af4-b724e000e03c"
      },
      "outputs": [
        {
          "data": {
            "text/plain": [
              "['d', 'e', 'b', 'c', 'a']"
            ]
          },
          "execution_count": 12,
          "metadata": {},
          "output_type": "execute_result"
        }
      ],
      "source": [
        "[node.name for node in postorder_iter(root)]\n"
      ]
    },
    {
      "cell_type": "code",
      "execution_count": 13,
      "metadata": {
        "colab": {
          "base_uri": "https://localhost:8080/"
        },
        "id": "3D93yYdraqBh",
        "outputId": "a8eec435-b151-42d8-9642-a614ab022004"
      },
      "outputs": [
        {
          "data": {
            "text/plain": [
              "['a', 'b', 'c', 'd', 'e']"
            ]
          },
          "execution_count": 13,
          "metadata": {},
          "output_type": "execute_result"
        }
      ],
      "source": [
        "[node.name for node in levelorder_iter(root)]"
      ]
    },
    {
      "cell_type": "markdown",
      "metadata": {
        "id": "eJ9oOXzObdV7"
      },
      "source": [
        "**Ejemplo #3 - Busqueda**"
      ]
    },
    {
      "cell_type": "code",
      "execution_count": 16,
      "metadata": {
        "colab": {
          "base_uri": "https://localhost:8080/"
        },
        "id": "LHiIFOZTbf9k",
        "outputId": "08b4a7f0-b6a2-468e-cf76-9c7ce3f34a3f"
      },
      "outputs": [
        {
          "name": "stdout",
          "output_type": "stream",
          "text": [
            "a [age=90]\n",
            "├── b [age=65]\n",
            "└── c [age=60]\n",
            "    └── d [age=40]\n"
          ]
        }
      ],
      "source": [
        "from bigtree import Node, find, find_name, find_path, find_relative_path, find_full_path, find_attr\n",
        "root = Node(\"a\", age=90)\n",
        "b = Node(\"b\", age=65, parent=root)\n",
        "c = Node(\"c\", age=60, parent=root)\n",
        "d = Node(\"d\", age=40, parent=c)\n",
        "root.show(attr_list=[\"age\"])\n",
        "\n",
        "\n"
      ]
    },
    {
      "cell_type": "code",
      "execution_count": 15,
      "metadata": {
        "colab": {
          "base_uri": "https://localhost:8080/"
        },
        "id": "K9kvL8G7cczM",
        "outputId": "06bf12ae-e6cc-4f29-b79c-a1ed0c4531c3"
      },
      "outputs": [
        {
          "data": {
            "text/plain": [
              "Node(/a/c, age=60)"
            ]
          },
          "execution_count": 15,
          "metadata": {},
          "output_type": "execute_result"
        }
      ],
      "source": [
        "find(root, lambda node: node.age == 60)\n",
        "\n"
      ]
    },
    {
      "cell_type": "code",
      "execution_count": 17,
      "metadata": {
        "colab": {
          "base_uri": "https://localhost:8080/"
        },
        "id": "eeOziJKfcemC",
        "outputId": "bb58097b-86c9-4bc9-e11d-272304a059e5"
      },
      "outputs": [
        {
          "data": {
            "text/plain": [
              "Node(/a/c/d, age=40)"
            ]
          },
          "execution_count": 17,
          "metadata": {},
          "output_type": "execute_result"
        }
      ],
      "source": [
        "find_name(root, \"d\")"
      ]
    },
    {
      "cell_type": "markdown",
      "metadata": {
        "id": "DwnGw3N_hjSD"
      },
      "source": [
        "**Ejemplo #4 - Modificacion**\n"
      ]
    },
    {
      "cell_type": "code",
      "execution_count": 68,
      "metadata": {
        "colab": {
          "base_uri": "https://localhost:8080/"
        },
        "id": "6lCyIKwchlzV",
        "outputId": "3798fe37-879e-42b2-945d-84d20510ebd4"
      },
      "outputs": [
        {
          "name": "stdout",
          "output_type": "stream",
          "text": [
            "a\n",
            "├── b\n",
            "│   └── d\n",
            "│       └── e\n",
            "└── d\n",
            "    └── f\n"
          ]
        }
      ],
      "source": [
        "from bigtree import Node, copy_and_replace_nodes_from_tree_to_tree, copy_nodes, shift_nodes\n",
        "root = Node(\"a\")\n",
        "b = Node(\"b\", parent=root)\n",
        "d = Node(\"d\", parent=b)\n",
        "e = Node(\"e\", parent=d)\n",
        "d2 = Node(\"d\", parent=root)\n",
        "f = Node(\"f\", parent=d2)\n",
        "# g = Node(\"g\", parent=f)\n",
        "root.show()\n"
      ]
    },
    {
      "cell_type": "code",
      "execution_count": 69,
      "metadata": {
        "colab": {
          "base_uri": "https://localhost:8080/"
        },
        "id": "gDUSN4een0Pb",
        "outputId": "c036239c-800f-41f1-a6de-87d89c7ff400"
      },
      "outputs": [
        {
          "name": "stdout",
          "output_type": "stream",
          "text": [
            "a\n",
            "├── b\n",
            "└── d\n",
            "    └── e\n"
          ]
        }
      ],
      "source": [
        "shift_nodes(root, [\"a/b/d\"], [\"a/d\"], overriding=True)\n",
        "root.show()"
      ]
    },
    {
      "cell_type": "markdown",
      "metadata": {
        "id": "mwlkDKxhh2oz"
      },
      "source": []
    }
  ],
  "metadata": {
    "colab": {
      "provenance": []
    },
    "kernelspec": {
      "display_name": "Python 3",
      "name": "python3"
    },
    "language_info": {
      "name": "python",
      "version": "3.11.4"
    }
  },
  "nbformat": 4,
  "nbformat_minor": 0
}
