{
 "cells": [
  {
   "cell_type": "markdown",
   "metadata": {},
   "source": [
    "# Lab4\n",
    "#### Fidel Diaz | 3-751-509 | 1SF125 | fidel.diaz@utp.ac.pa"
   ]
  },
  {
   "cell_type": "markdown",
   "metadata": {},
   "source": [
    "# Part1: Binary Tree\n",
    "## Problema 1. Arboles Binarios de Expresión"
   ]
  },
  {
   "cell_type": "code",
   "execution_count": 8,
   "metadata": {},
   "outputs": [],
   "source": [
    "#Implementing A Stack in Python\n",
    "# Completed implementation of a stack ADT\n",
    "class Stack:\n",
    "    def __init__(self):\n",
    "        self.items = []\n",
    "        \n",
    "    def is_empty(self):\n",
    "        return self.items == []\n",
    "\n",
    "    def push(self, item):\n",
    "        self.items.append(item)\n",
    "\n",
    "    def pop(self):\n",
    "        return self.items.pop()\n",
    "\n",
    "    def peek(self):\n",
    "        return self.items[len(self.items)-1]\n",
    "\n",
    "    def size(self):\n",
    "        return len(self.items)"
   ]
  },
  {
   "cell_type": "code",
   "execution_count": 10,
   "metadata": {},
   "outputs": [
    {
     "name": "stdout",
     "output_type": "stream",
     "text": [
      "True\n",
      "dog\n",
      "3\n",
      "False\n",
      "8.4\n",
      "True\n",
      "2\n",
      "<__main__.Stack object at 0x000001DE1F9F4110>\n"
     ]
    }
   ],
   "source": [
    "# Stack object and then use it.\n",
    "def main():\n",
    "    s = Stack()\n",
    "    print(s.is_empty())\n",
    "    s.push(4)\n",
    "    s.push('dog')\n",
    "    print(s.peek())\n",
    "    s.push(True)\n",
    "    print(s.size())\n",
    "    print(s.is_empty())\n",
    "    s.push(8.4)\n",
    "    print(s.pop())\n",
    "    print(s.pop())\n",
    "    print(s.size())\n",
    "    print(s)\n",
    "if __name__ == \"__main__\":\n",
    "    main()"
   ]
  },
  {
   "cell_type": "code",
   "execution_count": 16,
   "metadata": {},
   "outputs": [
    {
     "name": "stdout",
     "output_type": "stream",
     "text": [
      "3.0\n"
     ]
    }
   ],
   "source": [
    "#Postfix Evaluation\n",
    "# import Stack # As previously defined\n",
    "def postfix_eval(postfix_expr):\n",
    "    operand_stack = Stack()\n",
    "    token_list = postfix_expr.split()\n",
    "    \n",
    "    for token in token_list:\n",
    "        if token in \"0123456789\":\n",
    "            operand_stack.push(int(token))\n",
    "        else:\n",
    "            operand2 = operand_stack.pop()\n",
    "            operand1 = operand_stack.pop()\n",
    "            result = do_math(token, operand1, operand2)\n",
    "            operand_stack.push(result)\n",
    "    return operand_stack.pop()\n",
    "def do_math(op, op1, op2):\n",
    "    if op == \"*\":\n",
    "        return op1 * op2\n",
    "    elif op == \"/\":\n",
    "        return op1 / op2\n",
    "    elif op == \"+\":\n",
    "        return op1 + op2\n",
    "    else:\n",
    "        return op1 - op2\n",
    "    \n",
    "\n",
    "def main():\n",
    "    print(postfix_eval('7 8 + 3 2 + /'))\n",
    "if __name__ == \"__main__\":\n",
    "    main()"
   ]
  },
  {
   "cell_type": "markdown",
   "metadata": {},
   "source": [
    "##### Su algoritmo debe ser capaz de:\n",
    "##### a. Evaluar una expresión valida y dar su resultado.\n",
    "##### b. Verificar e imprimir si hay algún error en la escritura de la expresión dada por el usuario."
   ]
  },
  {
   "cell_type": "code",
   "execution_count": 17,
   "metadata": {},
   "outputs": [
    {
     "name": "stdout",
     "output_type": "stream",
     "text": [
      "Given the expression in Postfix\n",
      "a b c / - d e f g ^ ^ * +\n",
      "Postfix expression:\n",
      "1 2 3 / - 4 5 6 7 ^ ^ * +\n",
      "postfix evaluation: \n",
      "24.333333333333332\n",
      "Postfix expression:\n",
      "7 8 + 3 2 + /\n",
      "postfix evaluation: \n",
      "3.0\n"
     ]
    }
   ],
   "source": [
    "def main():\n",
    "    print(\"Given the expression in Postfix\")\n",
    "    print(\"a b c / - d e f g ^ ^ * +\")\n",
    "    postfix_expr = '1 2 3 / - 4 5 6 7 ^ ^ * +'\n",
    "    print(\"Postfix expression:\\n\"+postfix_expr)\n",
    "    print(\"postfix evaluation: \")\n",
    "    print(postfix_eval(postfix_expr))\n",
    "    postfix_expr = '7 8 + 3 2 + /'\n",
    "    print(\"Postfix expression:\\n\"+postfix_expr)\n",
    "    print(\"postfix evaluation: \")\n",
    "    print(postfix_eval(postfix_expr))\n",
    "if __name__ == \"__main__\":\n",
    "    main()"
   ]
  }
 ],
 "metadata": {
  "kernelspec": {
   "display_name": "Python 3",
   "language": "python",
   "name": "python3"
  },
  "language_info": {
   "codemirror_mode": {
    "name": "ipython",
    "version": 3
   },
   "file_extension": ".py",
   "mimetype": "text/x-python",
   "name": "python",
   "nbconvert_exporter": "python",
   "pygments_lexer": "ipython3",
   "version": "3.11.4"
  }
 },
 "nbformat": 4,
 "nbformat_minor": 2
}
