{
 "cells": [
  {
   "cell_type": "markdown",
   "metadata": {},
   "source": [
    "# Lab4\n",
    "#### Fidel Diaz | 3-751-509 | 1SF125 | fidel.diaz@utp.ac.pa"
   ]
  },
  {
   "cell_type": "markdown",
   "metadata": {},
   "source": [
    "# Part1: Binary Tree\n",
    "## Problem 1. Arboles Binarios de Expresión"
   ]
  },
  {
   "cell_type": "code",
   "execution_count": 285,
   "metadata": {},
   "outputs": [],
   "source": [
    "#Implementing A Stack in Python\n",
    "# Completed implementation of a stack ADT\n",
    "class Stack:\n",
    "    def __init__(self):\n",
    "        self.items = []\n",
    "        \n",
    "    def is_empty(self):\n",
    "        return self.items == []\n",
    "\n",
    "    def push(self, item):\n",
    "        self.items.append(item)\n",
    "\n",
    "    def pop(self):\n",
    "        return self.items.pop()\n",
    "\n",
    "    def peek(self):\n",
    "        return self.items[len(self.items)-1]\n",
    "\n",
    "    def size(self):\n",
    "        return len(self.items)"
   ]
  },
  {
   "cell_type": "code",
   "execution_count": 286,
   "metadata": {},
   "outputs": [
    {
     "name": "stdout",
     "output_type": "stream",
     "text": [
      "True\n",
      "dog\n",
      "3\n",
      "False\n",
      "8.4\n",
      "True\n",
      "2\n",
      "<__main__.Stack object at 0x000002BA39C31AD0>\n"
     ]
    }
   ],
   "source": [
    "# Stack object and then use it.\n",
    "def main():\n",
    "    s = Stack()\n",
    "    print(s.is_empty())\n",
    "    s.push(4)\n",
    "    s.push('dog')\n",
    "    print(s.peek())\n",
    "    s.push(True)\n",
    "    print(s.size())\n",
    "    print(s.is_empty())\n",
    "    s.push(8.4)\n",
    "    print(s.pop())\n",
    "    print(s.pop())\n",
    "    print(s.size())\n",
    "    print(s)\n",
    "if __name__ == \"__main__\":\n",
    "    main()"
   ]
  },
  {
   "cell_type": "code",
   "execution_count": 287,
   "metadata": {},
   "outputs": [
    {
     "name": "stdout",
     "output_type": "stream",
     "text": [
      "3.0\n"
     ]
    }
   ],
   "source": [
    "\"\"\"\"Postfix Evaluation Algorithm\n",
    "Calculates the result of a mathematical expression provided in postfix notation. \n",
    "Input: postfix_expr: A string representing a mathematical expression in postfix notation. \n",
    "The expression may contain integers, basic arithmetic operators (+, -, *, /), and exponentiation (^).\n",
    "Output:The result of evaluating the postfix mathematical expression.\n",
    "\"\"\"\n",
    "#import Stack # As previously defined\n",
    "def postfix_eval(postfix_expr):\n",
    "    operand_stack = Stack()\n",
    "    token_list = postfix_expr.split()\n",
    "    \n",
    "    for token in token_list:\n",
    "        if token in \"0123456789\":\n",
    "            operand_stack.push(int(token))\n",
    "        else:\n",
    "            operand2 = operand_stack.pop()\n",
    "            operand1 = operand_stack.pop()\n",
    "            result = do_math(token, operand1, operand2)\n",
    "            operand_stack.push(result)\n",
    "    return operand_stack.pop()\n",
    "def do_math(op, op1, op2):\n",
    "    op1 = float(op1)\n",
    "    op2 = float(op2)\n",
    "    if op == \"*\":\n",
    "        return op1 * op2\n",
    "    elif op == \"/\":\n",
    "        return op1 / op2\n",
    "    elif op == \"+\":\n",
    "        return op1 + op2\n",
    "    elif op == \"-\":\n",
    "        return op1 - op2\n",
    "    else:\n",
    "        return op1**op2\n",
    "def main():\n",
    "    print(postfix_eval('7 8 + 3 2 + /'))\n",
    "if __name__ == \"__main__\":\n",
    "    main()"
   ]
  },
  {
   "cell_type": "code",
   "execution_count": 288,
   "metadata": {},
   "outputs": [],
   "source": [
    "#Postfix Evaluation\n",
    "# import Stack # As previously defined\n",
    "\"\"\"\n",
    "class Stack:\n",
    "    def __init__(self):\n",
    "        self.items = []\n",
    "\n",
    "    def push(self, item):\n",
    "        self.items.append(item)\n",
    "\n",
    "    def pop(self):\n",
    "        return self.items.pop()\n",
    "\n",
    "    def isEmpty(self):\n",
    "        return len(self.items) == 0\n",
    "\"\"\"\n",
    "class LargeNumberError(Exception):\n",
    "    pass\n",
    "\n",
    "def postfix_eval(postfix_expr):\n",
    "    operand_stack = Stack()\n",
    "    token_list = postfix_expr.split()\n",
    "\n",
    "    for token in token_list:\n",
    "        try:\n",
    "            if token in \"0123456789\":\n",
    "                operand_stack.push(float(token))\n",
    "            else:\n",
    "                operand2 = operand_stack.pop()\n",
    "                operand1 = operand_stack.pop()\n",
    "                result = do_math(token, operand1, operand2)\n",
    "                operand_stack.push(result)\n",
    "        except OverflowError:\n",
    "            raise LargeNumberError(\"Result is a very large number\")\n",
    "\n",
    "    return operand_stack.pop()\n",
    "\n",
    "def do_math(op, op1, op2):\n",
    "    if op == \"*\":\n",
    "        return op1 * op2\n",
    "    elif op == \"/\":\n",
    "        if op2 == 0:\n",
    "            raise ZeroDivisionError(\"Cannot divide by zero\")\n",
    "        return op1 / op2\n",
    "    elif op == \"+\":\n",
    "        return op1 + op2\n",
    "    elif op == \"-\":\n",
    "        return op1 - op2\n",
    "    else:\n",
    "        return op1 ** op2"
   ]
  },
  {
   "cell_type": "code",
   "execution_count": 289,
   "metadata": {},
   "outputs": [
    {
     "name": "stdout",
     "output_type": "stream",
     "text": [
      "41\n"
     ]
    }
   ],
   "source": [
    "#Alternative Algorithm\n",
    "# Python program to evaluate value of a postfix\n",
    "# expression with integers containing multiple digits\n",
    "class evalpostfix:\n",
    "\tdef __init__(self):\n",
    "\t\tself.stack = []\n",
    "\t\tself.top = -1\n",
    "\n",
    "\tdef pop(self):\n",
    "\t\tif self.top == -1:\n",
    "\t\t\treturn\n",
    "\t\telse:\n",
    "\t\t\tself.top -= 1\n",
    "\t\t\treturn self.stack.pop()\n",
    "\n",
    "\tdef push(self, i):\n",
    "\t\tself.top += 1\n",
    "\t\tself.stack.append(i)\n",
    "\n",
    "\tdef centralfunc(self, ab):\n",
    "\t\tfor i in ab:\n",
    "\n",
    "\t\t\t# If the component of the list is an integer\n",
    "\t\t\ttry:\n",
    "\t\t\t\tself.push(int(i))\n",
    "\t\t\t\n",
    "\t\t\t# If the component of the list is not an integer,\n",
    "\t\t\t# it must be an operator. Using ValueError, we can\n",
    "\t\t\t# evaluate components of the list other than type int\n",
    "\t\t\texcept ValueError:\n",
    "\t\t\t\tval1 = self.pop()\n",
    "\t\t\t\tval2 = self.pop()\n",
    "\t\t\t\tif i == '/':\n",
    "\t\t\t\t\tself.push(val2 / val1)\n",
    "\t\t\t\telse:\n",
    "\t\t\t\t\t\n",
    "\t\t\t\t\t# Switch statement to perform operation\n",
    "\t\t\t\t\tswitcher = {'+': val2 + val1, '-': val2 -\n",
    "\t\t\t\t\t\t\t\tval1, '*': val2 * val1, '^': val2**val1}\n",
    "\t\t\t\t\tself.push(switcher.get(i))\n",
    "\t\treturn int(self.pop())\n",
    "\n",
    "\n",
    "\n",
    "# Driver code\n",
    "if __name__ == '__main__':\n",
    "\tstr = '7 6 5 / - 4 3 2 1 ^ ^ * +'\n",
    "\t\n",
    "\t# Splitting the given string to obtain\n",
    "\t# integers and operators into a list\n",
    "\tstrconv = str.split(' ')\n",
    "\tobj = evalpostfix()\n",
    "\tprint(obj.centralfunc(strconv))\n",
    "\n",
    "# This code is contributed by Amarnath Reddy"
   ]
  },
  {
   "cell_type": "markdown",
   "metadata": {},
   "source": [
    "##### Su algoritmo debe ser capaz de:\n",
    "##### a. Evaluar una expresión valida y dar su resultado.\n",
    "##### b. Verificar e imprimir si hay algún error en la escritura de la expresión dada por el usuario."
   ]
  },
  {
   "cell_type": "code",
   "execution_count": 290,
   "metadata": {},
   "outputs": [
    {
     "name": "stdout",
     "output_type": "stream",
     "text": [
      "Given the expression in Postfix\n",
      "a b c / - d e f g ^ ^ * +\n",
      "Postfix expression:\n",
      "7 8 + 3 2 + /\n",
      "Postfix evaluation: \n",
      "3.0\n",
      "Postfix expression:\n",
      "7 6 5 / - 4 3 2 1 ^ ^ * +\n",
      "Postfix evaluation: \n",
      "41.8\n"
     ]
    }
   ],
   "source": [
    "def main():\n",
    "    print(\"Given the expression in Postfix\")\n",
    "    print(\"a b c / - d e f g ^ ^ * +\")\n",
    "    postfix_expr = '7 8 + 3 2 + /'\n",
    "    print(\"Postfix expression:\\n\"+postfix_expr)\n",
    "    print(\"Postfix evaluation: \")\n",
    "    print(postfix_eval(postfix_expr))\n",
    "    postfix_expr = '7 6 5 / - 4 3 2 1 ^ ^ * +'\n",
    "    print(\"Postfix expression:\\n\"+postfix_expr)\n",
    "    print(\"Postfix evaluation: \")\n",
    "    print(postfix_eval(postfix_expr))\n",
    "if __name__ == \"__main__\":\n",
    "    main()"
   ]
  },
  {
   "cell_type": "code",
   "execution_count": 291,
   "metadata": {},
   "outputs": [
    {
     "name": "stdout",
     "output_type": "stream",
     "text": [
      "Given the expression in Postfix\n",
      "a b c / - d e f g ^ ^ * +\n",
      "Postfix expression:\n",
      "7 8 + 3 2 + /\n",
      "Postfix evaluation: \n",
      "3.0\n",
      "Postfix expression:\n",
      "7 6 5 / - 4 3 2 1 ^ ^ * +\n",
      "Postfix evaluation: \n",
      "41.8\n",
      "Postfix expression:\n",
      "1 2 3 / - 4 5 6 7 ^ ^ * +\n",
      "Postfix evaluation: \n",
      "Error: Result is a very large number\n"
     ]
    }
   ],
   "source": [
    "def main():\n",
    "    try:\n",
    "        print(\"Given the expression in Postfix\")\n",
    "        print(\"a b c / - d e f g ^ ^ * +\")\n",
    "        postfix_expr = '7 8 + 3 2 + /'\n",
    "        print(\"Postfix expression:\\n\"+postfix_expr)\n",
    "        print(\"Postfix evaluation: \")\n",
    "        print(postfix_eval(postfix_expr))\n",
    "        postfix_expr = '7 6 5 / - 4 3 2 1 ^ ^ * +'\n",
    "        print(\"Postfix expression:\\n\"+postfix_expr)\n",
    "        print(\"Postfix evaluation: \")\n",
    "        print(postfix_eval(postfix_expr))\n",
    "        postfix_expr = '1 2 3 / - 4 5 6 7 ^ ^ * +'\n",
    "        print(\"Postfix expression:\\n\" + postfix_expr)\n",
    "        print(\"Postfix evaluation: \")\n",
    "        print(postfix_eval(postfix_expr))\n",
    "        result = postfix_eval('1 2 3 / - 4 5 6 7 ^ ^ * +')\n",
    "        print(\"Postfix expression:\", '1 2 3 / - 4 5 6 7 ^ ^ * +')\n",
    "        print(\"Postfix evaluation:\", result)\n",
    "    except LargeNumberError as ln_err:\n",
    "        print(\"Error:\", ln_err)\n",
    "\n",
    "if __name__ == \"__main__\":\n",
    "    main()"
   ]
  },
  {
   "cell_type": "code",
   "execution_count": 292,
   "metadata": {},
   "outputs": [],
   "source": [
    "#Add tree dot representation and save png."
   ]
  },
  {
   "cell_type": "markdown",
   "metadata": {},
   "source": [
    "## Problem2. Binary Search Trees"
   ]
  },
  {
   "cell_type": "code",
   "execution_count": 293,
   "metadata": {},
   "outputs": [],
   "source": [
    "#%pip install bigtree"
   ]
  },
  {
   "cell_type": "markdown",
   "metadata": {},
   "source": [
    "##### 1. Escribir código de Bigtree que genere el árbol dado en la imagen a la derecha."
   ]
  },
  {
   "cell_type": "code",
   "execution_count": 294,
   "metadata": {},
   "outputs": [
    {
     "name": "stdout",
     "output_type": "stream",
     "text": [
      "f\n",
      "├── c\n",
      "│   ├── a\n",
      "│   └── e\n",
      "│       └── d\n",
      "└── m\n",
      "    └── g\n",
      "        └── j\n"
     ]
    }
   ],
   "source": [
    "from bigtree import Node, tree_to_dot\n",
    "\n",
    "# Create root node\n",
    "root = Node(\"f\")\n",
    "\n",
    "# Create child nodes\n",
    "c = Node(\"c\")\n",
    "a = Node(\"a\")\n",
    "e = Node(\"e\")\n",
    "d = Node(\"d\")\n",
    "m = Node(\"m\")\n",
    "g = Node(\"g\")\n",
    "j = Node(\"j\")\n",
    "\n",
    "# Assign children and parent relationships\n",
    "root.children = [c, m]\n",
    "c.children = [a, e]\n",
    "e.children = [d]\n",
    "m.children = [g]\n",
    "g.children = [j]\n",
    "\n",
    "# Print the tree structure\n",
    "root.show()\n",
    "\n",
    "# Convert tree to DOT format\n",
    "graph = tree_to_dot(root)\n",
    "\n",
    "# Write DOT file \n",
    "graph.write_raw('tree.dot')"
   ]
  },
  {
   "cell_type": "code",
   "execution_count": 295,
   "metadata": {},
   "outputs": [
    {
     "name": "stdout",
     "output_type": "stream",
     "text": [
      "f\n",
      "├── c\n",
      "│   ├── a\n",
      "│   └── e\n",
      "│       └── d\n",
      "└── m\n",
      "    └── g\n",
      "        └── j\n"
     ]
    }
   ],
   "source": [
    "#Alternative Code\n",
    "from bigtree import Node, tree_to_dot\n",
    "\n",
    "# Create root node\n",
    "root = Node(\"f\")\n",
    "\n",
    "# Create child nodes\n",
    "c = Node(\"c\")\n",
    "a = Node(\"a\")\n",
    "e = Node(\"e\")\n",
    "d = Node(\"d\")\n",
    "m = Node(\"m\")\n",
    "g = Node(\"g\")\n",
    "j = Node(\"j\")\n",
    "\n",
    "# Assign children and parent relationships\n",
    "root.children = [c, m]\n",
    "c.children = [a, e]\n",
    "d.parent = e\n",
    "g.parent = m\n",
    "j.parent = g\n",
    "\n",
    "# Print the tree structure\n",
    "root.show()"
   ]
  },
  {
   "cell_type": "markdown",
   "metadata": {},
   "source": [
    "##### 2. Recorra el árbol en pre-orden, post-orden, y en orden. Sugerencia: utilizar compresión de lista sobre la estructura node.name()."
   ]
  },
  {
   "cell_type": "code",
   "execution_count": 296,
   "metadata": {},
   "outputs": [
    {
     "name": "stdout",
     "output_type": "stream",
     "text": [
      "f\n",
      "├── c\n",
      "│   ├── a\n",
      "│   └── e\n",
      "│       └── d\n",
      "└── m\n",
      "    └── g\n",
      "        └── j\n"
     ]
    }
   ],
   "source": [
    "from bigtree import Node, preorder_iter, postorder_iter, levelorder_iter, levelordergroup_iter, zigzag_iter, zigzaggroup_iter\n",
    "\n",
    "# Create tree\n",
    "root = Node(\"f\")\n",
    "c = Node(\"c\")\n",
    "a = Node(\"a\")\n",
    "e = Node(\"e\")\n",
    "d = Node(\"d\")\n",
    "m = Node(\"m\")\n",
    "g = Node(\"g\")\n",
    "j = Node(\"j\")\n",
    "root.children = [c, m]\n",
    "c.children = [a, e]\n",
    "e.children = [d]\n",
    "m.children = [g]\n",
    "g.children = [j]\n",
    "root.show()"
   ]
  },
  {
   "cell_type": "code",
   "execution_count": 297,
   "metadata": {},
   "outputs": [
    {
     "data": {
      "text/plain": [
       "['f', 'c', 'a', 'e', 'd', 'm', 'g', 'j']"
      ]
     },
     "execution_count": 297,
     "metadata": {},
     "output_type": "execute_result"
    }
   ],
   "source": [
    "[node.name for node in preorder_iter(root)]"
   ]
  },
  {
   "cell_type": "code",
   "execution_count": 298,
   "metadata": {},
   "outputs": [
    {
     "data": {
      "text/plain": [
       "['a', 'd', 'e', 'c', 'j', 'g', 'm', 'f']"
      ]
     },
     "execution_count": 298,
     "metadata": {},
     "output_type": "execute_result"
    }
   ],
   "source": [
    "[node.name for node in postorder_iter(root)]"
   ]
  },
  {
   "cell_type": "code",
   "execution_count": 299,
   "metadata": {},
   "outputs": [
    {
     "data": {
      "text/plain": [
       "['f', 'c', 'm', 'a', 'e', 'g', 'd', 'j']"
      ]
     },
     "execution_count": 299,
     "metadata": {},
     "output_type": "execute_result"
    }
   ],
   "source": [
    "[node.name for node in levelorder_iter(root)]"
   ]
  },
  {
   "cell_type": "markdown",
   "metadata": {},
   "source": [
    "##### 3. Implemente la búsqueda de nodos particulares, por ejemplo j. \n",
    "##### a. ¿Cual es el camino (path) que se toma para llegar a j? \n",
    "##### b. ¿Cual es el camino (path) que se toma para llegar a d? Sugerencia: utilizar comandos find() y find_full_path()\n",
    "Example code is imported from https://bigtree.readthedocs.io/en/latest/"
   ]
  },
  {
   "cell_type": "code",
   "execution_count": 300,
   "metadata": {},
   "outputs": [
    {
     "name": "stdout",
     "output_type": "stream",
     "text": [
      "f [value=1]\n",
      "├── c [value=2]\n",
      "│   ├── a [value=3]\n",
      "│   └── e [value=4]\n",
      "│       └── d [value=5]\n",
      "└── m [value=6]\n",
      "    └── g [value=7]\n",
      "        └── j [value=8]\n"
     ]
    }
   ],
   "source": [
    "from bigtree import Node, find, find_name, find_paths\n",
    "\n",
    "# Create tree\n",
    "root1 = Node(\"f\", value=1)\n",
    "c = Node(\"c\", value=2)\n",
    "a = Node(\"a\", value=3)\n",
    "e = Node(\"e\", value=4)\n",
    "d = Node(\"d\", value=5)\n",
    "m = Node(\"m\", value=6)\n",
    "g = Node(\"g\", value=7)\n",
    "j = Node(\"j\", value=8)\n",
    "root1.children = [c, m]\n",
    "c.children = [a, e]\n",
    "e.children = [d]\n",
    "m.children = [g]\n",
    "g.children = [j]\n",
    "root1.show(attr_list=[\"value\"])"
   ]
  },
  {
   "cell_type": "code",
   "execution_count": 301,
   "metadata": {},
   "outputs": [
    {
     "data": {
      "text/plain": [
       "Node(/f/m/g/j, value=8)"
      ]
     },
     "execution_count": 301,
     "metadata": {},
     "output_type": "execute_result"
    }
   ],
   "source": [
    "find(root1, lambda node: node.value == 8)"
   ]
  },
  {
   "cell_type": "code",
   "execution_count": 302,
   "metadata": {},
   "outputs": [
    {
     "data": {
      "text/plain": [
       "Node(/f/c/e/d, value=5)"
      ]
     },
     "execution_count": 302,
     "metadata": {},
     "output_type": "execute_result"
    }
   ],
   "source": [
    "find(root1, lambda node: node.value == 5)"
   ]
  },
  {
   "cell_type": "code",
   "execution_count": 303,
   "metadata": {},
   "outputs": [
    {
     "data": {
      "text/plain": [
       "Node(/f/m/g/j, value=8)"
      ]
     },
     "execution_count": 303,
     "metadata": {},
     "output_type": "execute_result"
    }
   ],
   "source": [
    "find_name(root1, \"j\")"
   ]
  },
  {
   "cell_type": "code",
   "execution_count": 304,
   "metadata": {},
   "outputs": [
    {
     "data": {
      "text/plain": [
       "Node(/f/c/e/d, value=5)"
      ]
     },
     "execution_count": 304,
     "metadata": {},
     "output_type": "execute_result"
    }
   ],
   "source": [
    "find_name(root1, \"d\")"
   ]
  },
  {
   "cell_type": "code",
   "execution_count": 305,
   "metadata": {},
   "outputs": [
    {
     "data": {
      "text/plain": [
       "(Node(/f/m/g/j, value=8),)"
      ]
     },
     "execution_count": 305,
     "metadata": {},
     "output_type": "execute_result"
    }
   ],
   "source": [
    "find_paths(root1, \"/j\")"
   ]
  },
  {
   "cell_type": "code",
   "execution_count": 306,
   "metadata": {},
   "outputs": [
    {
     "data": {
      "text/plain": [
       "(Node(/f/c/e/d, value=5),)"
      ]
     },
     "execution_count": 306,
     "metadata": {},
     "output_type": "execute_result"
    }
   ],
   "source": [
    "find_paths(root1, \"/d\")"
   ]
  },
  {
   "cell_type": "markdown",
   "metadata": {},
   "source": [
    "### Chat GPT Example"
   ]
  },
  {
   "cell_type": "code",
   "execution_count": 307,
   "metadata": {},
   "outputs": [
    {
     "name": "stdout",
     "output_type": "stream",
     "text": [
      "f\n",
      "├── c\n",
      "│   ├── a\n",
      "│   └── e\n",
      "│       └── d\n",
      "└── m\n",
      "    └── g\n",
      "        └── j\n",
      "Path to j\n",
      " f/m/g/j\n",
      "Path to d\n",
      " f/c/e/d\n"
     ]
    }
   ],
   "source": [
    "from bigtree import Node\n",
    "\n",
    "def find_name(node, target_name, current_path=None):\n",
    "    if current_path is None:\n",
    "        current_path = [node.name]\n",
    "    else:\n",
    "        current_path.append(node.name)\n",
    "\n",
    "    if node.name == target_name:\n",
    "        return \"/\".join(current_path)\n",
    "\n",
    "    for child in node.children:\n",
    "        result = find_name(child, target_name, current_path.copy())\n",
    "        if result:\n",
    "            return result\n",
    "\n",
    "    return None\n",
    "\n",
    "# Create tree\n",
    "root = Node(\"f\")\n",
    "c = Node(\"c\")\n",
    "a = Node(\"a\")\n",
    "e = Node(\"e\")\n",
    "d = Node(\"d\")\n",
    "m = Node(\"m\")\n",
    "g = Node(\"g\")\n",
    "j = Node(\"j\")\n",
    "root.children = [c, m]\n",
    "c.children = [a, e]\n",
    "e.children = [d]\n",
    "m.children = [g]\n",
    "g.children = [j]\n",
    "root.show()\n",
    "\n",
    "# Find nodes by name\n",
    "print(\"Path to j\\n\",find_name(root, \"j\"))\n",
    "print(\"Path to d\\n\", find_name(root, \"d\"))\n",
    "# This code is contributed by ChatGPT"
   ]
  },
  {
   "cell_type": "markdown",
   "metadata": {},
   "source": [
    "### Observations"
   ]
  },
  {
   "cell_type": "code",
   "execution_count": 308,
   "metadata": {},
   "outputs": [
    {
     "name": "stdout",
     "output_type": "stream",
     "text": [
      "a [age=90]\n",
      "├── b [age=65]\n",
      "└── c [age=60]\n",
      "    └── d [age=40]\n"
     ]
    },
    {
     "data": {
      "text/plain": [
       "'\\nComment:\\nCondicion: Assuming the above code has no errors.\\n1. Notebook in Visual Studio code does not allow the use of multiple find methods at the same time, they have to be run separately.\\n2. The same pattern is repeated running the code in Google Colab.\\n3. Even when running the code it randomly executes the find() method and does not follow the sequence as the code is written.\\nThis code is import from https://bigtree.readthedocs.io/en/latest/\\n'"
      ]
     },
     "execution_count": 308,
     "metadata": {},
     "output_type": "execute_result"
    }
   ],
   "source": [
    "from bigtree import Node, find, find_name, find_path, find_relative_path, find_full_path, find_attr\n",
    "root = Node(\"a\", age=90)\n",
    "b = Node(\"b\", age=65, parent=root)\n",
    "c = Node(\"c\", age=60, parent=root)\n",
    "d = Node(\"d\", age=40, parent=c)\n",
    "root.show(attr_list=[\"age\"])\n",
    "# a [age=90]\n",
    "# ├── b [age=65]\n",
    "# └── c [age=60]\n",
    "#     └── d [age=40]\n",
    "\n",
    "find(root, lambda node: node.age == 60)\n",
    "# Node(/a/c, age=60)\n",
    "\n",
    "find_name(root, \"d\")\n",
    "# Node(/a/c/d, age=40)\n",
    "\n",
    "find_path(root, \"/c/d\")  # partial path\n",
    "# Node(/a/c/d, age=40)\n",
    "\n",
    "find_relative_path(c, \"../b\")  # relative path\n",
    "# (Node(/a/b, age=65),)\n",
    "\n",
    "find_full_path(root, \"a/c/d\")  # full path\n",
    "# Node(/a/c/d, age=40)\n",
    "\n",
    "find_attr(root, \"age\", 40)\n",
    "# Node(/a/c/d, age=40)\n",
    "\"\"\"\n",
    "Comment:\n",
    "Condicion: Assuming the above code has no errors.\n",
    "1. Notebook in Visual Studio code does not allow the use of multiple find methods at the same time, they have to be run separately.\n",
    "2. The same pattern is repeated running the code in Google Colab.\n",
    "3. Even when running the code it randomly executes the find() method and does not follow the sequence as the code is written.\n",
    "This code is import from https://bigtree.readthedocs.io/en/latest/\n",
    "\"\"\"\n",
    "#It seems that in ipynb notebooks the output of comments in blocks does have importance in the output of the code.\n",
    "#Python codes .py does not consider block comments in output."
   ]
  },
  {
   "cell_type": "code",
   "execution_count": 309,
   "metadata": {},
   "outputs": [
    {
     "data": {
      "text/plain": [
       "(Node(/a/b, age=65),)"
      ]
     },
     "execution_count": 309,
     "metadata": {},
     "output_type": "execute_result"
    }
   ],
   "source": [
    "find_relative_path(c, \"../b\")  # relative path\n",
    "# (Node(/a/b, age=65),)"
   ]
  },
  {
   "cell_type": "markdown",
   "metadata": {},
   "source": [
    "##### 4. Utilice los métodos para copiar y modificar el árbol para recrear la agregación del nodo j al árbol dado. Sugerencia: usar los métodos dados en la documentación2 "
   ]
  },
  {
   "cell_type": "code",
   "execution_count": 310,
   "metadata": {},
   "outputs": [
    {
     "name": "stdout",
     "output_type": "stream",
     "text": [
      "k\n",
      "├── c\n",
      "│   ├── a\n",
      "│   └── h\n",
      "│       └── f\n",
      "└── t\n",
      "    └── m\n",
      "        └── p\n"
     ]
    }
   ],
   "source": [
    "from bigtree import Node, tree_to_dot, find_name\n",
    "from bigtree import shift_nodes, copy_nodes, shift_and_replace_nodes\n",
    "\n",
    "# Create root node\n",
    "root2 = Node(\"k\")\n",
    "\n",
    "# Create child nodes\n",
    "c = Node(\"c\")\n",
    "a = Node(\"a\")\n",
    "h = Node(\"h\")\n",
    "f = Node(\"f\")\n",
    "t = Node(\"t\")\n",
    "m = Node(\"m\")\n",
    "p = Node(\"p\")\n",
    "\n",
    "# Assign children and parent relationships\n",
    "root2.children = [c, t]\n",
    "c.children = [a, h]\n",
    "h.children = [f]\n",
    "t.children = [m]\n",
    "m.children = [p]\n",
    "\n",
    "# Print the tree structure\n",
    "root2.show()\n",
    "\n",
    "# Convert tree to DOT format\n",
    "graph = tree_to_dot(root2)\n",
    "\n",
    "# Write DOT file\n",
    "graph = tree_to_dot(root2)\n",
    "graph.write_raw('tree2.dot')"
   ]
  },
  {
   "cell_type": "code",
   "execution_count": 311,
   "metadata": {},
   "outputs": [
    {
     "name": "stdout",
     "output_type": "stream",
     "text": [
      "k\n",
      "├── c\n",
      "│   ├── a\n",
      "│   └── h\n",
      "│       ├── f\n",
      "│       └── j\n",
      "└── t\n",
      "    └── m\n",
      "        └── p\n"
     ]
    }
   ],
   "source": [
    "from bigtree import Node, tree_to_dot, find_name\n",
    "from bigtree import shift_nodes, copy_nodes, shift_and_replace_nodes\n",
    "\n",
    "# Create root node\n",
    "root3 = Node(\"k\")\n",
    "\n",
    "# Create child nodes\n",
    "c = Node(\"c\")\n",
    "a = Node(\"a\")\n",
    "h = Node(\"h\")\n",
    "f = Node(\"f\")\n",
    "t = Node(\"t\")\n",
    "m = Node(\"m\")\n",
    "p = Node(\"p\")\n",
    "\n",
    "# Assign children and parent relationships\n",
    "root3.children = [c, t]\n",
    "c.children = [a, h]\n",
    "h.children = [f]\n",
    "t.children = [m]\n",
    "m.children = [p]\n",
    "\n",
    "copy_nodes(\n",
    "   root3,\n",
    "   from_paths=[\"k/c/h\"],\n",
    "   to_paths=[\"k/j/h\"],\n",
    ")\n",
    "shift_nodes(\n",
    "   root3,\n",
    "   from_paths=[\"k/j/h/f\", \"k/j/h\", \"k/h\", \"k/j\"],\n",
    "   to_paths=[None, \"k/h\", None, \"k/c/h/j\"],\n",
    ")\n",
    "root3.show()\n",
    "graph = tree_to_dot(root3)\n",
    "graph.write_raw('Newtree1.dot')"
   ]
  },
  {
   "cell_type": "code",
   "execution_count": 312,
   "metadata": {},
   "outputs": [
    {
     "data": {
      "text/plain": [
       "Node(/k/c/h/j, )"
      ]
     },
     "execution_count": 312,
     "metadata": {},
     "output_type": "execute_result"
    }
   ],
   "source": [
    "find_name(root3, \"j\")"
   ]
  },
  {
   "cell_type": "markdown",
   "metadata": {},
   "source": [
    "##### 5. Utilice los métodos para copiar y modificar el árbol para recrear la agregación del nodo j al árbol dado. Sugerencia: usar los métodos dados en la documentación2."
   ]
  },
  {
   "cell_type": "markdown",
   "metadata": {},
   "source": [
    "Option#1"
   ]
  },
  {
   "cell_type": "code",
   "execution_count": 313,
   "metadata": {},
   "outputs": [
    {
     "name": "stdout",
     "output_type": "stream",
     "text": [
      "k\n",
      "├── c\n",
      "│   ├── a\n",
      "│   └── h\n",
      "│       └── f\n",
      "└── t\n",
      "    └── m\n",
      "        └── p\n"
     ]
    }
   ],
   "source": [
    "from bigtree import Node, tree_to_dot, find_name\n",
    "from bigtree import shift_nodes, copy_nodes, shift_and_replace_nodes\n",
    "\n",
    "# Create root node\n",
    "root4 = Node(\"k\")\n",
    "\n",
    "# Create child nodes\n",
    "c = Node(\"c\")\n",
    "a = Node(\"a\")\n",
    "h = Node(\"h\")\n",
    "f = Node(\"f\")\n",
    "t = Node(\"t\")\n",
    "m = Node(\"m\")\n",
    "p = Node(\"p\")\n",
    "\n",
    "# Assign children and parent relationships\n",
    "root4.children = [c, t]\n",
    "c.children = [a, h]\n",
    "h.children = [f]\n",
    "t.children = [m]\n",
    "m.children = [p]\n",
    "\n",
    "# Print the tree structure\n",
    "root4.show()\n",
    "\n",
    "# Convert tree to DOT format\n",
    "graph = tree_to_dot(root4)\n",
    "\n",
    "# Write DOT file\n",
    "graph.write_raw('Newtree2.dot')"
   ]
  },
  {
   "cell_type": "code",
   "execution_count": 314,
   "metadata": {},
   "outputs": [
    {
     "name": "stdout",
     "output_type": "stream",
     "text": [
      "k\n",
      "├── a\n",
      "│   └── h\n",
      "│       └── f\n",
      "└── t\n",
      "    └── m\n",
      "        └── p\n"
     ]
    }
   ],
   "source": [
    "\"\"\"\"\n",
    "root2.show()\n",
    "graph = tree_to_dot(root2)\n",
    "graph.write_raw('Newtree2.dot')\n",
    "shift_nodes(\n",
    "   root2,\n",
    "   from_paths=[\"k/c/a\",\"k/c/h/f\", \"k/c\", \"k/h/f\", \"k/h\"],\n",
    "   to_paths=[\"k/a\",\"k/h/f\", None, \"k/a/h/f\", None],\n",
    ")\n",
    "\"\"\"\n",
    "copy_nodes(\n",
    "   root4,\n",
    "   from_paths=[\"k/c/h\"],\n",
    "   to_paths=[\"k/c/a/h\"],\n",
    ")\n",
    "shift_and_replace_nodes(\n",
    "   root4,\n",
    "   from_paths=[\"k/c/a\"],\n",
    "   to_paths=[\"k/c\"],\n",
    ")\n",
    "root4.show()\n",
    "graph = tree_to_dot(root4)\n",
    "graph.write_raw('Newtree2.dot')"
   ]
  },
  {
   "cell_type": "code",
   "execution_count": 315,
   "metadata": {},
   "outputs": [
    {
     "data": {
      "text/plain": [
       "Node(/k/a, )"
      ]
     },
     "execution_count": 315,
     "metadata": {},
     "output_type": "execute_result"
    }
   ],
   "source": [
    "find_name(root4, \"a\")"
   ]
  },
  {
   "cell_type": "markdown",
   "metadata": {},
   "source": [
    "Option#2"
   ]
  },
  {
   "cell_type": "code",
   "execution_count": 316,
   "metadata": {},
   "outputs": [
    {
     "name": "stdout",
     "output_type": "stream",
     "text": [
      "k\n",
      "├── c\n",
      "│   ├── a\n",
      "│   └── h\n",
      "│       └── f\n",
      "└── t\n",
      "    └── m\n",
      "        └── p\n"
     ]
    }
   ],
   "source": [
    "from bigtree import Node, tree_to_dot, find_name\n",
    "from bigtree import shift_nodes, copy_nodes, shift_and_replace_nodes\n",
    "\n",
    "# Create root node\n",
    "root5 = Node(\"k\")\n",
    "\n",
    "# Create child nodes\n",
    "c = Node(\"c\")\n",
    "a = Node(\"a\")\n",
    "h = Node(\"h\")\n",
    "f = Node(\"f\")\n",
    "t = Node(\"t\")\n",
    "m = Node(\"m\")\n",
    "p = Node(\"p\")\n",
    "\n",
    "# Assign children and parent relationships\n",
    "root5.children = [c, t]\n",
    "c.children = [a, h]\n",
    "h.children = [f]\n",
    "t.children = [m]\n",
    "m.children = [p]\n",
    "\n",
    "# Print the tree structure\n",
    "root5.show()\n",
    "\n",
    "graph = tree_to_dot(root5)\n",
    "graph.write_raw('Newtree3.dot')"
   ]
  },
  {
   "cell_type": "code",
   "execution_count": 317,
   "metadata": {},
   "outputs": [
    {
     "name": "stdout",
     "output_type": "stream",
     "text": [
      "k\n",
      "├── f\n",
      "│   ├── a\n",
      "│   └── h\n",
      "└── t\n",
      "    └── m\n",
      "        └── p\n"
     ]
    }
   ],
   "source": [
    "#Alternative1\n",
    "\"\"\"\n",
    "shift_nodes(\n",
    "   root2,\n",
    "   from_paths=[\"k/c/h/f\", \"k/c/h\", \"k/c/a\"],\n",
    "   to_paths=[\"k/f\", \"k/h\", \"k/a\"],\n",
    ")\n",
    "shift_and_replace_nodes(\n",
    "   root2,\n",
    "   from_paths=[\"k/c\"],\n",
    "   to_paths=[\"k/f\"],\n",
    ")\n",
    "shift_nodes(\n",
    "   root2,\n",
    "   from_paths=[\"k/a\", \"k/h\"],\n",
    "   to_paths=[\"k/f/a\", \"k/f/h\"],\n",
    ")\n",
    "\"\"\"\n",
    "#Alternative2\n",
    "shift_nodes(\n",
    "   root5,\n",
    "   from_paths=[\"k/c/h/f\", \"k/c/h\", \"k/c/a\"],\n",
    "   to_paths=[\"k/f\", \"k/h\", \"k/a\"],\n",
    ")\n",
    "shift_nodes(\n",
    "   root5,\n",
    "   from_paths=[\"k/a\", \"k/h\"],\n",
    "   to_paths=[\"k/f/a\", \"k/f/h\"],\n",
    ")\n",
    "shift_and_replace_nodes(\n",
    "   root5,\n",
    "   from_paths=[\"k/f\"],\n",
    "   to_paths=[\"k/c\"],\n",
    ")\n",
    "#Reorganize\n",
    "copy_nodes(\n",
    "   root5,\n",
    "   from_paths=[\"k/t/m/p\"],\n",
    "   to_paths=[\"k/p\"],\n",
    ")\n",
    "shift_and_replace_nodes(\n",
    "   root5,\n",
    "   from_paths=[\"k/t\"],\n",
    "   to_paths=[\"k/p\"],\n",
    ")\n",
    "root5.show()\n",
    "graph = tree_to_dot(root5)\n",
    "graph.write_raw('Newtree3.dot')"
   ]
  },
  {
   "cell_type": "code",
   "execution_count": 318,
   "metadata": {},
   "outputs": [
    {
     "data": {
      "text/plain": [
       "Node(/k/f, )"
      ]
     },
     "execution_count": 318,
     "metadata": {},
     "output_type": "execute_result"
    }
   ],
   "source": [
    "find_name(root5, \"f\")"
   ]
  },
  {
   "cell_type": "markdown",
   "metadata": {},
   "source": [
    "##### 6. Utilice el metodo get_tree_diff() para comparar el arbol original con los generados por cada una de las modificaciones."
   ]
  },
  {
   "cell_type": "code",
   "execution_count": 319,
   "metadata": {},
   "outputs": [
    {
     "name": "stdout",
     "output_type": "stream",
     "text": [
      "k\n",
      "├── c\n",
      "│   ├── a\n",
      "│   └── h\n",
      "│       └── f\n",
      "└── t\n",
      "    └── m\n",
      "        └── p\n",
      "k\n",
      "├── c\n",
      "│   ├── a\n",
      "│   └── h\n",
      "│       ├── f\n",
      "│       └── j\n",
      "└── t\n",
      "    └── m\n",
      "        └── p\n",
      "k\n",
      "├── c\n",
      "│   ├── a\n",
      "│   └── h\n",
      "│       ├── f\n",
      "│       └── j (+)\n",
      "└── t\n",
      "    └── m\n",
      "        └── p\n",
      "k\n",
      "├── c\n",
      "│   ├── a\n",
      "│   └── h\n",
      "│       └── f\n",
      "└── t\n",
      "    └── m\n",
      "        └── p\n",
      "k\n",
      "├── a\n",
      "│   └── h\n",
      "│       └── f\n",
      "└── t\n",
      "    └── m\n",
      "        └── p\n",
      "k\n",
      "├── a\n",
      "│   └── h\n",
      "│       └── f (+)\n",
      "├── c\n",
      "│   ├── a (-)\n",
      "│   └── h\n",
      "│       └── f (-)\n",
      "└── t\n",
      "    └── m\n",
      "        └── p\n",
      "k\n",
      "├── c\n",
      "│   ├── a\n",
      "│   └── h\n",
      "│       └── f\n",
      "└── t\n",
      "    └── m\n",
      "        └── p\n",
      "k\n",
      "├── f\n",
      "│   ├── a\n",
      "│   └── h\n",
      "└── t\n",
      "    └── m\n",
      "        └── p\n",
      "k\n",
      "├── c\n",
      "│   ├── a (-)\n",
      "│   └── h\n",
      "│       └── f (-)\n",
      "├── f\n",
      "│   ├── a (+)\n",
      "│   └── h (+)\n",
      "└── t\n",
      "    └── m\n",
      "        └── p\n"
     ]
    }
   ],
   "source": [
    "from bigtree import BaseNode, Node, clone_tree, prune_tree, get_tree_diff\n",
    "\"\"\"\n",
    "For example: (+) refers to nodes that are in other_tree but not tree.\n",
    "For example: (-) refers to nodes that are in tree but not other_tree.\n",
    "\"\"\"\n",
    "root2.show()\n",
    "root3.show()\n",
    "tree_diff1 = get_tree_diff(root2, root3, only_diff=False)\n",
    "tree_diff1.show()\n",
    "graph = tree_to_dot(tree_diff1)\n",
    "graph.write_raw('tree_diff1.dot')\n",
    "root2.show()\n",
    "root4.show()\n",
    "tree_diff2 = get_tree_diff(root2, root4, only_diff=False)\n",
    "tree_diff2.show()\n",
    "graph = tree_to_dot(tree_diff2)\n",
    "graph.write_raw('tree_diff2.dot')\n",
    "root2.show()\n",
    "root5.show()\n",
    "tree_diff3 = get_tree_diff(root2, root5, only_diff=False)\n",
    "tree_diff3.show()\n",
    "graph = tree_to_dot(tree_diff3)\n",
    "graph.write_raw('tree_diff3.dot')"
   ]
  },
  {
   "cell_type": "markdown",
   "metadata": {},
   "source": [
    "#### ChatGPT Code Optimized\n",
    "This code is contributed by ChatGPT"
   ]
  },
  {
   "cell_type": "code",
   "execution_count": 320,
   "metadata": {},
   "outputs": [
    {
     "data": {
      "text/plain": [
       "'\\nfrom bigtree import Node, tree_to_dot, shift_nodes, copy_nodes, shift_and_replace_nodes\\n\\ndef create_tree():\\n    root = Node(\"k\")\\n    c, a, h, f, t, m, p = map(Node, \"cahftmp\")\\n\\n    root.children = [c, t]\\n    c.children = [a, h]\\n    h.children = [f]\\n    t.children = [m]\\n    m.children = [p]\\n\\n    return root\\n\\n# Create root node and print the tree structure\\nroot2 = create_tree()\\nroot2.show()\\n\\n# Convert tree to DOT format and write DOT file\\ngraph = tree_to_dot(root2)\\ngraph.write_raw(\\'Newtree1.dot\\')\\n'"
      ]
     },
     "execution_count": 320,
     "metadata": {},
     "output_type": "execute_result"
    }
   ],
   "source": [
    "\"\"\"\n",
    "from bigtree import Node, tree_to_dot, shift_nodes, copy_nodes, shift_and_replace_nodes\n",
    "\n",
    "def create_tree():\n",
    "    root = Node(\"k\")\n",
    "    c, a, h, f, t, m, p = map(Node, \"cahftmp\")\n",
    "\n",
    "    root.children = [c, t]\n",
    "    c.children = [a, h]\n",
    "    h.children = [f]\n",
    "    t.children = [m]\n",
    "    m.children = [p]\n",
    "\n",
    "    return root\n",
    "\n",
    "# Create root node and print the tree structure\n",
    "root2 = create_tree()\n",
    "root2.show()\n",
    "\n",
    "# Convert tree to DOT format and write DOT file\n",
    "graph = tree_to_dot(root2)\n",
    "graph.write_raw('Newtree1.dot')\n",
    "\"\"\""
   ]
  },
  {
   "cell_type": "code",
   "execution_count": 321,
   "metadata": {},
   "outputs": [
    {
     "data": {
      "text/plain": [
       "'\\nfrom bigtree import Node, tree_to_dot, shift_nodes, copy_nodes, shift_and_replace_nodes\\n\\ndef create_tree():\\n    root = Node(\"k\")\\n    c, a, h, f, t, m, p = map(Node, \"cahftmp\")\\n\\n    root.children = [c, t]\\n    c.children = [a, h]\\n    h.children = [f]\\n    t.children = [m]\\n    m.children = [p]\\n\\n    return root\\n\\n# Create root node and perform operations\\nroot3 = create_tree()\\n\\ncopy_nodes(root3, from_paths=[\"k/c/h\"], to_paths=[\"k/j/h\"])\\nshift_nodes(root3, from_paths=[\"k/j/h/f\", \"k/j/h\", \"k/h\", \"k/j\"],\\n            to_paths=[None, \"k/h\", None, \"k/c/h/j\"])\\nroot3.show()\\n\\n# Convert tree to DOT format and write DOT file\\ngraph = tree_to_dot(root3)\\ngraph.write_raw(\\'Newtree1.dot\\')\\n'"
      ]
     },
     "execution_count": 321,
     "metadata": {},
     "output_type": "execute_result"
    }
   ],
   "source": [
    "\"\"\"\n",
    "from bigtree import Node, tree_to_dot, shift_nodes, copy_nodes, shift_and_replace_nodes\n",
    "\n",
    "def create_tree():\n",
    "    root = Node(\"k\")\n",
    "    c, a, h, f, t, m, p = map(Node, \"cahftmp\")\n",
    "\n",
    "    root.children = [c, t]\n",
    "    c.children = [a, h]\n",
    "    h.children = [f]\n",
    "    t.children = [m]\n",
    "    m.children = [p]\n",
    "\n",
    "    return root\n",
    "\n",
    "# Create root node and perform operations\n",
    "root3 = create_tree()\n",
    "\n",
    "copy_nodes(root3, from_paths=[\"k/c/h\"], to_paths=[\"k/j/h\"])\n",
    "shift_nodes(root3, from_paths=[\"k/j/h/f\", \"k/j/h\", \"k/h\", \"k/j\"],\n",
    "            to_paths=[None, \"k/h\", None, \"k/c/h/j\"])\n",
    "root3.show()\n",
    "\n",
    "# Convert tree to DOT format and write DOT file\n",
    "graph = tree_to_dot(root3)\n",
    "graph.write_raw('Newtree1.dot')\n",
    "\"\"\""
   ]
  },
  {
   "cell_type": "code",
   "execution_count": 322,
   "metadata": {},
   "outputs": [
    {
     "data": {
      "text/plain": [
       "'\\nfrom bigtree import Node, tree_to_dot, shift_nodes, copy_nodes, shift_and_replace_nodes\\n\\ndef create_tree():\\n    root = Node(\"k\")\\n    c, a, h, f, t, m, p = map(Node, \"cahftmp\")\\n\\n    root.children = [c, t]\\n    c.children = [a, h]\\n    h.children = [f]\\n    t.children = [m]\\n    m.children = [p]\\n\\n    return root\\n\\n# Create root node and print the tree structure\\nroot4 = create_tree()\\nroot4.show()\\n\\n# Convert tree to DOT format and write DOT file\\ngraph = tree_to_dot(root4)\\ngraph.write_raw(\\'Newtree2.dot\\')\\n'"
      ]
     },
     "execution_count": 322,
     "metadata": {},
     "output_type": "execute_result"
    }
   ],
   "source": [
    "\"\"\"\n",
    "from bigtree import Node, tree_to_dot, shift_nodes, copy_nodes, shift_and_replace_nodes\n",
    "\n",
    "def create_tree():\n",
    "    root = Node(\"k\")\n",
    "    c, a, h, f, t, m, p = map(Node, \"cahftmp\")\n",
    "\n",
    "    root.children = [c, t]\n",
    "    c.children = [a, h]\n",
    "    h.children = [f]\n",
    "    t.children = [m]\n",
    "    m.children = [p]\n",
    "\n",
    "    return root\n",
    "\n",
    "# Create root node and print the tree structure\n",
    "root4 = create_tree()\n",
    "root4.show()\n",
    "\n",
    "# Convert tree to DOT format and write DOT file\n",
    "graph = tree_to_dot(root4)\n",
    "graph.write_raw('Newtree2.dot')\n",
    "\"\"\""
   ]
  },
  {
   "cell_type": "code",
   "execution_count": 323,
   "metadata": {},
   "outputs": [
    {
     "data": {
      "text/plain": [
       "'\\nfrom bigtree import Node, tree_to_dot, shift_nodes, copy_nodes, shift_and_replace_nodes\\n\\ndef create_tree():\\n    root = Node(\"k\")\\n    c, a, h, f, t, m, p = map(Node, \"cahftmp\")\\n\\n    root.children = [c, t]\\n    c.children = [a, h]\\n    h.children = [f]\\n    t.children = [m]\\n    m.children = [p]\\n\\n    return root\\n\\n# Create root node and perform operations\\nroot5 = create_tree()\\n\\n# Print the tree structure\\nroot5.show()\\n\\n# Perform tree operations\\nshift_nodes(root5, from_paths=[\"k/c/h/f\", \"k/c/h\", \"k/c/a\"],\\n            to_paths=[\"k/f\", \"k/h\", \"k/a\"])\\nshift_nodes(root5, from_paths=[\"k/a\", \"k/h\"],\\n            to_paths=[\"k/f/a\", \"k/f/h\"])\\nshift_and_replace_nodes(root5, from_paths=[\"k/f\"], to_paths=[\"k/c\"])\\n\\n# Reorganize\\ncopy_nodes(root5, from_paths=[\"k/t/m/p\"], to_paths=[\"k/p\"])\\nshift_and_replace_nodes(root5, from_paths=[\"k/t\"], to_paths=[\"k/p\"])\\n\\n# Print the updated tree structure and write DOT file\\nroot5.show()\\ngraph = tree_to_dot(root5)\\ngraph.write_raw(\\'Newtree3.dot\\')\\n'"
      ]
     },
     "execution_count": 323,
     "metadata": {},
     "output_type": "execute_result"
    }
   ],
   "source": [
    "\"\"\"\n",
    "from bigtree import Node, tree_to_dot, shift_nodes, copy_nodes, shift_and_replace_nodes\n",
    "\n",
    "def create_tree():\n",
    "    root = Node(\"k\")\n",
    "    c, a, h, f, t, m, p = map(Node, \"cahftmp\")\n",
    "\n",
    "    root.children = [c, t]\n",
    "    c.children = [a, h]\n",
    "    h.children = [f]\n",
    "    t.children = [m]\n",
    "    m.children = [p]\n",
    "\n",
    "    return root\n",
    "\n",
    "# Create root node and perform operations\n",
    "root5 = create_tree()\n",
    "\n",
    "# Print the tree structure\n",
    "root5.show()\n",
    "\n",
    "# Perform tree operations\n",
    "shift_nodes(root5, from_paths=[\"k/c/h/f\", \"k/c/h\", \"k/c/a\"],\n",
    "            to_paths=[\"k/f\", \"k/h\", \"k/a\"])\n",
    "shift_nodes(root5, from_paths=[\"k/a\", \"k/h\"],\n",
    "            to_paths=[\"k/f/a\", \"k/f/h\"])\n",
    "shift_and_replace_nodes(root5, from_paths=[\"k/f\"], to_paths=[\"k/c\"])\n",
    "\n",
    "# Reorganize\n",
    "copy_nodes(root5, from_paths=[\"k/t/m/p\"], to_paths=[\"k/p\"])\n",
    "shift_and_replace_nodes(root5, from_paths=[\"k/t\"], to_paths=[\"k/p\"])\n",
    "\n",
    "# Print the updated tree structure and write DOT file\n",
    "root5.show()\n",
    "graph = tree_to_dot(root5)\n",
    "graph.write_raw('Newtree3.dot')\n",
    "\"\"\""
   ]
  },
  {
   "cell_type": "code",
   "execution_count": 324,
   "metadata": {},
   "outputs": [
    {
     "data": {
      "text/plain": [
       "\"\\nfrom bigtree import Node, tree_to_dot, get_tree_diff\\n\\n# Create trees\\nroot2 = create_tree()\\nroot3 = create_tree()\\nroot4 = create_tree()\\nroot5 = create_tree()\\n\\n# Show tree differences and write DOT files\\ntree_diff1 = get_tree_diff(root2, root3, only_diff=False)\\ntree_diff1.show()\\ngraph = tree_to_dot(tree_diff1)\\ngraph.write_raw('tree_diff1.dot')\\n\\ntree_diff2 = get_tree_diff(root2, root4, only_diff=False)\\ntree_diff2.show()\\ngraph = tree_to_dot(tree_diff2)\\ngraph.write_raw('tree_diff2.dot')\\n\\ntree_diff3 = get_tree_diff(root2, root5, only_diff=False)\\ntree_diff3.show()\\ngraph = tree_to_dot(tree_diff3)\\ngraph.write_raw('tree_diff3.dot')\\n\""
      ]
     },
     "execution_count": 324,
     "metadata": {},
     "output_type": "execute_result"
    }
   ],
   "source": [
    "\"\"\"\n",
    "from bigtree import Node, tree_to_dot, get_tree_diff\n",
    "\n",
    "# Create trees\n",
    "root2 = create_tree()\n",
    "root3 = create_tree()\n",
    "root4 = create_tree()\n",
    "root5 = create_tree()\n",
    "\n",
    "# Show tree differences and write DOT files\n",
    "tree_diff1 = get_tree_diff(root2, root3, only_diff=False)\n",
    "tree_diff1.show()\n",
    "graph = tree_to_dot(tree_diff1)\n",
    "graph.write_raw('tree_diff1.dot')\n",
    "\n",
    "tree_diff2 = get_tree_diff(root2, root4, only_diff=False)\n",
    "tree_diff2.show()\n",
    "graph = tree_to_dot(tree_diff2)\n",
    "graph.write_raw('tree_diff2.dot')\n",
    "\n",
    "tree_diff3 = get_tree_diff(root2, root5, only_diff=False)\n",
    "tree_diff3.show()\n",
    "graph = tree_to_dot(tree_diff3)\n",
    "graph.write_raw('tree_diff3.dot')\n",
    "\"\"\""
   ]
  },
  {
   "cell_type": "markdown",
   "metadata": {},
   "source": [
    "# Part2: Graphs and Networks\n",
    "## Problem 3. Algoritmos del camino más corto"
   ]
  },
  {
   "cell_type": "markdown",
   "metadata": {},
   "source": [
    "Escriba un script que lea el archivo CSV en una matriz\n",
    "numpy, luego la transforme en un objeto csgraph dirigido.\n",
    "Utilice scipy.sparse.csgraph.shortest_path para calcular la\n",
    "ruta más corta entre estas ciudades"
   ]
  },
  {
   "cell_type": "code",
   "execution_count": 325,
   "metadata": {},
   "outputs": [
    {
     "data": {
      "text/plain": [
       "'\\n%pip install pandas numpy scipy networkx\\n'"
      ]
     },
     "execution_count": 325,
     "metadata": {},
     "output_type": "execute_result"
    }
   ],
   "source": [
    "\"\"\"\n",
    "%pip install pandas numpy scipy networkx\n",
    "\"\"\""
   ]
  },
  {
   "cell_type": "code",
   "execution_count": 326,
   "metadata": {},
   "outputs": [
    {
     "name": "stdout",
     "output_type": "stream",
     "text": [
      "[[  0 662 877 255 412 996]\n",
      " [662   0 295 468 268 400]\n",
      " [877 295   0 754 564 138]\n",
      " [255 468 754   0 219 869]\n",
      " [412 268 564 219   0 669]\n",
      " [996 400 138 869 669   0]]\n"
     ]
    }
   ],
   "source": [
    "import pandas as pd\n",
    "import numpy as np\n",
    "from scipy.sparse import csgraph\n",
    "from scipy.sparse.csgraph import shortest_path\n",
    "import time\n",
    "import networkx as nx\n",
    "import matplotlib.pyplot as plt\n",
    "# Read CSV file into a Pandas DataFrame\n",
    "df = pd.read_csv('italia.csv', index_col=0)\n",
    "\n",
    "# Convert DataFrame to a Numpy matrix\n",
    "distance_matrix = df.to_numpy()\n",
    "italia_distances = distance_matrix\n",
    "print(distance_matrix)\n",
    "\n",
    "# Create a directed graph using scipy.sparse.csgraph\n",
    "graph = csgraph.csgraph_from_dense(distance_matrix, null_value=np.inf)\n"
   ]
  },
  {
   "cell_type": "markdown",
   "metadata": {},
   "source": [
    "##### a. Imprima la matriz final del calculo hecho por el algoritmo Floyd-Warshall."
   ]
  },
  {
   "cell_type": "code",
   "execution_count": 327,
   "metadata": {},
   "outputs": [
    {
     "name": "stdout",
     "output_type": "stream",
     "text": [
      "Floyd-Warshall Matrix:\n",
      "[[  0. 662. 877. 255. 412. 996.]\n",
      " [662.   0. 295. 468. 268. 400.]\n",
      " [877. 295.   0. 754. 563. 138.]\n",
      " [255. 468. 754.   0. 219. 868.]\n",
      " [412. 268. 563. 219.   0. 668.]\n",
      " [996. 400. 138. 868. 668.   0.]]\n"
     ]
    }
   ],
   "source": [
    "# Calculate shortest paths using Floyd-Warshall\n",
    "floyd_warshall_matrix = csgraph.floyd_warshall(graph, directed=True, return_predecessors=False)\n",
    "print(\"Floyd-Warshall Matrix:\")\n",
    "print(floyd_warshall_matrix)"
   ]
  },
  {
   "cell_type": "markdown",
   "metadata": {},
   "source": [
    "##### b. Imprima la matriz final del calculo hecho por el algoritmo de Dijkstra."
   ]
  },
  {
   "cell_type": "code",
   "execution_count": 328,
   "metadata": {},
   "outputs": [
    {
     "name": "stdout",
     "output_type": "stream",
     "text": [
      "Dijkstra Matrix:\n",
      "[[  0. 662. 877. 255. 412. 996.]\n",
      " [662.   0. 295. 468. 268. 400.]\n",
      " [877. 295.   0. 754. 563. 138.]\n",
      " [255. 468. 754.   0. 219. 868.]\n",
      " [412. 268. 563. 219.   0. 668.]\n",
      " [996. 400. 138. 868. 668.   0.]]\n"
     ]
    }
   ],
   "source": [
    "# Calculate shortest paths using Dijkstra\n",
    "dijkstra_matrix = csgraph.dijkstra(graph, directed=True, return_predecessors=False)\n",
    "print(\"Dijkstra Matrix:\")\n",
    "print(dijkstra_matrix)"
   ]
  },
  {
   "cell_type": "markdown",
   "metadata": {},
   "source": [
    "##### c. Utilizando el modulo time (visto en el Laboratorio #1), Calcule cual de los dos algoritmos realiza el calculo de manera mas rápida. Comente sobre como se comparan ambas respuestas ambas respuestas."
   ]
  },
  {
   "cell_type": "code",
   "execution_count": 329,
   "metadata": {},
   "outputs": [
    {
     "name": "stdout",
     "output_type": "stream",
     "text": [
      "\n",
      "Floyd-Warshall Execution Time: 0.0 seconds\n",
      "Dijkstra Execution Time: 0.0009913444519042969 seconds\n",
      "Floyd-Warshall is faster.\n"
     ]
    }
   ],
   "source": [
    "import time\n",
    "# Measure execution time for Floyd-Warshall\n",
    "start_time = time.time()\n",
    "csgraph.floyd_warshall(graph, directed=True, return_predecessors=False)\n",
    "floyd_warshall_time = time.time() - start_time\n",
    "\n",
    "# Measure execution time for Dijkstra\n",
    "start_time = time.time()\n",
    "csgraph.dijkstra(graph, directed=True, return_predecessors=False)\n",
    "dijkstra_time = time.time() - start_time\n",
    "\n",
    "# Compare execution times\n",
    "print(\"\\nFloyd-Warshall Execution Time:\", floyd_warshall_time, \"seconds\")\n",
    "print(\"Dijkstra Execution Time:\", dijkstra_time, \"seconds\")\n",
    "\n",
    "if floyd_warshall_time < dijkstra_time:\n",
    "    print(\"Floyd-Warshall is faster.\")\n",
    "else:\n",
    "    print(\"Dijkstra is faster.\")"
   ]
  },
  {
   "cell_type": "code",
   "execution_count": 330,
   "metadata": {},
   "outputs": [
    {
     "name": "stdout",
     "output_type": "stream",
     "text": [
      "\n",
      "Floyd-Warshall Execution Time: 0.0 seconds\n",
      "Dijkstra Execution Time: 0.0010159015655517578 seconds\n",
      "Floyd-Warshall is faster.\n"
     ]
    }
   ],
   "source": [
    "import time\n",
    "# Measure execution time for Floyd-Warshall\n",
    "start_time = time.time()\n",
    "csgraph.floyd_warshall(graph, directed=True, return_predecessors=False)\n",
    "floyd_warshall_time = time.time() - start_time\n",
    "\n",
    "# Measure execution time for Dijkstra\n",
    "start_time = time.time()\n",
    "csgraph.dijkstra(graph, directed=True, return_predecessors=False)\n",
    "dijkstra_time = time.time() - start_time\n",
    "\n",
    "# Compare execution times\n",
    "print(\"\\nFloyd-Warshall Execution Time:\", floyd_warshall_time, \"seconds\")\n",
    "print(\"Dijkstra Execution Time:\", dijkstra_time, \"seconds\")\n",
    "\n",
    "if floyd_warshall_time < dijkstra_time:\n",
    "    print(\"Floyd-Warshall is faster.\")\n",
    "else:\n",
    "    print(\"Dijkstra is faster.\")"
   ]
  },
  {
   "cell_type": "code",
   "execution_count": 331,
   "metadata": {},
   "outputs": [
    {
     "name": "stdout",
     "output_type": "stream",
     "text": [
      "\n",
      "Floyd-Warshall Execution Time (timeit module): 0.00044539995724335313 seconds (average over 10 runs)\n",
      "Dijkstra Execution Time (timeit module): 0.0022708000033162534 seconds (average over 10 runs)\n",
      "\n",
      "Floyd-Warshall is faster (timeit module).\n"
     ]
    }
   ],
   "source": [
    "import timeit\n",
    "# Measure execution time for Floyd-Warshall using timeit module\n",
    "floyd_warshall_timeit = timeit.timeit(lambda: csgraph.floyd_warshall(graph, directed=True, return_predecessors=False), number=10)\n",
    "\n",
    "# Measure execution time for Dijkstra using timeit module\n",
    "dijkstra_timeit = timeit.timeit(lambda: csgraph.dijkstra(graph, directed=True, return_predecessors=False), number=10)\n",
    "\n",
    "# Compare execution times using timeit module\n",
    "print(\"\\nFloyd-Warshall Execution Time (timeit module):\", floyd_warshall_timeit, \"seconds (average over 10 runs)\")\n",
    "print(\"Dijkstra Execution Time (timeit module):\", dijkstra_timeit, \"seconds (average over 10 runs)\")\n",
    "\n",
    "# Determine which algorithm is faster\n",
    "if floyd_warshall_timeit < dijkstra_timeit:\n",
    "    print(\"\\nFloyd-Warshall is faster (timeit module).\")\n",
    "else:\n",
    "    print(\"\\nDijkstra is faster (timeit module).\")"
   ]
  },
  {
   "cell_type": "markdown",
   "metadata": {},
   "source": [
    "Comment\n",
    "1. Depending on the sequence of the code and which library is used (time or timeit) the execution time of the algorithms may vary.\n",
    "2. I don't know why this phenomenon happens.\n",
    "3. As a result of comparing the 3 previous codes it seems that Floyd-Warshall is faster."
   ]
  },
  {
   "cell_type": "markdown",
   "metadata": {},
   "source": [
    "##### d. Utilizando la librería NetworkX de Python (https://networkx.github.io/), cree un grafo y un dígrafo que represente las conexiones entre estas ciudades."
   ]
  },
  {
   "cell_type": "code",
   "execution_count": 332,
   "metadata": {},
   "outputs": [
    {
     "data": {
      "image/png": "[encoded data removed]",
      "text/plain": [
       "<Figure size 640x480 with 1 Axes>"
      ]
     },
     "metadata": {},
     "output_type": "display_data"
    },
    {
     "data": {
      "image/png": "[encoded data removed]",
      "text/plain": [
       "<Figure size 640x480 with 1 Axes>"
      ]
     },
     "metadata": {},
     "output_type": "display_data"
    }
   ],
   "source": [
    "G = nx.Graph()\n",
    "DiG = nx.DiGraph()\n",
    "\n",
    "# Add edges to the graphs\n",
    "for i in range(len(italia_distances)):\n",
    "    for j in range(len(italia_distances)):\n",
    "        if italia_distances[i, j] != np.inf:\n",
    "            G.add_edge(i, j, weight=italia_distances[i, j])\n",
    "            DiG.add_edge(i, j, weight=italia_distances[i, j])\n",
    "\n",
    "# Draw the graphs\n",
    "nx.draw(G, with_labels=True, font_weight='bold')\n",
    "plt.show()\n",
    "\n",
    "nx.draw(DiG, with_labels=True, font_weight='bold')\n",
    "plt.show()"
   ]
  }
 ],
 "metadata": {
  "kernelspec": {
   "display_name": "Python 3 (ipykernel)",
   "language": "python",
   "name": "python3"
  },
  "language_info": {
   "codemirror_mode": {
    "name": "ipython",
    "version": 3
   },
   "file_extension": ".py",
   "mimetype": "text/x-python",
   "name": "python",
   "nbconvert_exporter": "python",
   "pygments_lexer": "ipython3",
   "version": "3.11.4"
  }
 },
 "nbformat": 4,
 "nbformat_minor": 2
}
