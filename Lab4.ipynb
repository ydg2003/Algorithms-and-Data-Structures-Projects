{
 "cells": [
  {
   "cell_type": "markdown",
   "metadata": {},
   "source": [
    "# Lab4\n",
    "#### Fidel Diaz | 3-751-509 | 1SF125 | fidel.diaz@utp.ac.pa"
   ]
  },
  {
   "cell_type": "markdown",
   "metadata": {},
   "source": [
    "# Part1: Binary Tree\n",
    "## Problema 1. Arboles Binarios de Expresión"
   ]
  },
  {
   "cell_type": "code",
   "execution_count": 66,
   "metadata": {},
   "outputs": [],
   "source": [
    "#Implementing A Stack in Python\n",
    "# Completed implementation of a stack ADT\n",
    "class Stack:\n",
    "    def __init__(self):\n",
    "        self.items = []\n",
    "        \n",
    "    def is_empty(self):\n",
    "        return self.items == []\n",
    "\n",
    "    def push(self, item):\n",
    "        self.items.append(item)\n",
    "\n",
    "    def pop(self):\n",
    "        return self.items.pop()\n",
    "\n",
    "    def peek(self):\n",
    "        return self.items[len(self.items)-1]\n",
    "\n",
    "    def size(self):\n",
    "        return len(self.items)"
   ]
  },
  {
   "cell_type": "code",
   "execution_count": 67,
   "metadata": {},
   "outputs": [
    {
     "name": "stdout",
     "output_type": "stream",
     "text": [
      "True\n",
      "dog\n",
      "3\n",
      "False\n",
      "8.4\n",
      "True\n",
      "2\n",
      "<__main__.Stack object at 0x0000018E58C01150>\n"
     ]
    }
   ],
   "source": [
    "# Stack object and then use it.\n",
    "def main():\n",
    "    s = Stack()\n",
    "    print(s.is_empty())\n",
    "    s.push(4)\n",
    "    s.push('dog')\n",
    "    print(s.peek())\n",
    "    s.push(True)\n",
    "    print(s.size())\n",
    "    print(s.is_empty())\n",
    "    s.push(8.4)\n",
    "    print(s.pop())\n",
    "    print(s.pop())\n",
    "    print(s.size())\n",
    "    print(s)\n",
    "if __name__ == \"__main__\":\n",
    "    main()"
   ]
  },
  {
   "cell_type": "code",
   "execution_count": 68,
   "metadata": {},
   "outputs": [
    {
     "name": "stdout",
     "output_type": "stream",
     "text": [
      "3.0\n"
     ]
    }
   ],
   "source": [
    "\"\"\"\"Postfix Evaluation Algorithm\n",
    "Calculates the result of a mathematical expression provided in postfix notation. \n",
    "Input: postfix_expr: A string representing a mathematical expression in postfix notation. \n",
    "The expression may contain integers, basic arithmetic operators (+, -, *, /), and exponentiation (^).\n",
    "Output:The result of evaluating the postfix mathematical expression.\n",
    "\"\"\"\n",
    "#import Stack # As previously defined\n",
    "def postfix_eval(postfix_expr):\n",
    "    operand_stack = Stack()\n",
    "    token_list = postfix_expr.split()\n",
    "    \n",
    "    for token in token_list:\n",
    "        if token in \"0123456789\":\n",
    "            operand_stack.push(int(token))\n",
    "        else:\n",
    "            operand2 = operand_stack.pop()\n",
    "            operand1 = operand_stack.pop()\n",
    "            result = do_math(token, operand1, operand2)\n",
    "            operand_stack.push(result)\n",
    "    return operand_stack.pop()\n",
    "def do_math(op, op1, op2):\n",
    "    op1 = float(op1)\n",
    "    op2 = float(op2)\n",
    "    if op == \"*\":\n",
    "        return op1 * op2\n",
    "    elif op == \"/\":\n",
    "        return op1 / op2\n",
    "    elif op == \"+\":\n",
    "        return op1 + op2\n",
    "    elif op == \"-\":\n",
    "        return op1 - op2\n",
    "    else:\n",
    "        return op1**op2\n",
    "def main():\n",
    "    print(postfix_eval('7 8 + 3 2 + /'))\n",
    "if __name__ == \"__main__\":\n",
    "    main()"
   ]
  },
  {
   "cell_type": "code",
   "execution_count": 69,
   "metadata": {},
   "outputs": [],
   "source": [
    "#Postfix Evaluation\n",
    "# import Stack # As previously defined\n",
    "\"\"\"\n",
    "class Stack:\n",
    "    def __init__(self):\n",
    "        self.items = []\n",
    "\n",
    "    def push(self, item):\n",
    "        self.items.append(item)\n",
    "\n",
    "    def pop(self):\n",
    "        return self.items.pop()\n",
    "\n",
    "    def isEmpty(self):\n",
    "        return len(self.items) == 0\n",
    "\"\"\"\n",
    "class LargeNumberError(Exception):\n",
    "    pass\n",
    "\n",
    "def postfix_eval(postfix_expr):\n",
    "    operand_stack = Stack()\n",
    "    token_list = postfix_expr.split()\n",
    "\n",
    "    for token in token_list:\n",
    "        try:\n",
    "            if token in \"0123456789\":\n",
    "                operand_stack.push(float(token))\n",
    "            else:\n",
    "                operand2 = operand_stack.pop()\n",
    "                operand1 = operand_stack.pop()\n",
    "                result = do_math(token, operand1, operand2)\n",
    "                operand_stack.push(result)\n",
    "        except OverflowError:\n",
    "            raise LargeNumberError(\"Result is a very large number\")\n",
    "\n",
    "    return operand_stack.pop()\n",
    "\n",
    "def do_math(op, op1, op2):\n",
    "    if op == \"*\":\n",
    "        return op1 * op2\n",
    "    elif op == \"/\":\n",
    "        if op2 == 0:\n",
    "            raise ZeroDivisionError(\"Cannot divide by zero\")\n",
    "        return op1 / op2\n",
    "    elif op == \"+\":\n",
    "        return op1 + op2\n",
    "    elif op == \"-\":\n",
    "        return op1 - op2\n",
    "    else:\n",
    "        return op1 ** op2"
   ]
  },
  {
   "cell_type": "code",
   "execution_count": 70,
   "metadata": {},
   "outputs": [
    {
     "name": "stdout",
     "output_type": "stream",
     "text": [
      "41\n"
     ]
    }
   ],
   "source": [
    "#Alternative Algorithm\n",
    "# Python program to evaluate value of a postfix\n",
    "# expression with integers containing multiple digits\n",
    "class evalpostfix:\n",
    "\tdef __init__(self):\n",
    "\t\tself.stack = []\n",
    "\t\tself.top = -1\n",
    "\n",
    "\tdef pop(self):\n",
    "\t\tif self.top == -1:\n",
    "\t\t\treturn\n",
    "\t\telse:\n",
    "\t\t\tself.top -= 1\n",
    "\t\t\treturn self.stack.pop()\n",
    "\n",
    "\tdef push(self, i):\n",
    "\t\tself.top += 1\n",
    "\t\tself.stack.append(i)\n",
    "\n",
    "\tdef centralfunc(self, ab):\n",
    "\t\tfor i in ab:\n",
    "\n",
    "\t\t\t# If the component of the list is an integer\n",
    "\t\t\ttry:\n",
    "\t\t\t\tself.push(int(i))\n",
    "\t\t\t\n",
    "\t\t\t# If the component of the list is not an integer,\n",
    "\t\t\t# it must be an operator. Using ValueError, we can\n",
    "\t\t\t# evaluate components of the list other than type int\n",
    "\t\t\texcept ValueError:\n",
    "\t\t\t\tval1 = self.pop()\n",
    "\t\t\t\tval2 = self.pop()\n",
    "\t\t\t\tif i == '/':\n",
    "\t\t\t\t\tself.push(val2 / val1)\n",
    "\t\t\t\telse:\n",
    "\t\t\t\t\t\n",
    "\t\t\t\t\t# Switch statement to perform operation\n",
    "\t\t\t\t\tswitcher = {'+': val2 + val1, '-': val2 -\n",
    "\t\t\t\t\t\t\t\tval1, '*': val2 * val1, '^': val2**val1}\n",
    "\t\t\t\t\tself.push(switcher.get(i))\n",
    "\t\treturn int(self.pop())\n",
    "\n",
    "\n",
    "\n",
    "# Driver code\n",
    "if __name__ == '__main__':\n",
    "\tstr = '7 6 5 / - 4 3 2 1 ^ ^ * +'\n",
    "\t\n",
    "\t# Splitting the given string to obtain\n",
    "\t# integers and operators into a list\n",
    "\tstrconv = str.split(' ')\n",
    "\tobj = evalpostfix()\n",
    "\tprint(obj.centralfunc(strconv))\n",
    "\n",
    "# This code is contributed by Amarnath Reddy"
   ]
  },
  {
   "cell_type": "markdown",
   "metadata": {},
   "source": [
    "##### Su algoritmo debe ser capaz de:\n",
    "##### a. Evaluar una expresión valida y dar su resultado.\n",
    "##### b. Verificar e imprimir si hay algún error en la escritura de la expresión dada por el usuario."
   ]
  },
  {
   "cell_type": "code",
   "execution_count": 71,
   "metadata": {},
   "outputs": [
    {
     "name": "stdout",
     "output_type": "stream",
     "text": [
      "Given the expression in Postfix\n",
      "a b c / - d e f g ^ ^ * +\n",
      "Postfix expression:\n",
      "7 8 + 3 2 + /\n",
      "Postfix evaluation: \n",
      "3.0\n",
      "Postfix expression:\n",
      "7 6 5 / - 4 3 2 1 ^ ^ * +\n",
      "Postfix evaluation: \n",
      "41.8\n"
     ]
    }
   ],
   "source": [
    "def main():\n",
    "    print(\"Given the expression in Postfix\")\n",
    "    print(\"a b c / - d e f g ^ ^ * +\")\n",
    "    postfix_expr = '7 8 + 3 2 + /'\n",
    "    print(\"Postfix expression:\\n\"+postfix_expr)\n",
    "    print(\"Postfix evaluation: \")\n",
    "    print(postfix_eval(postfix_expr))\n",
    "    postfix_expr = '7 6 5 / - 4 3 2 1 ^ ^ * +'\n",
    "    print(\"Postfix expression:\\n\"+postfix_expr)\n",
    "    print(\"Postfix evaluation: \")\n",
    "    print(postfix_eval(postfix_expr))\n",
    "if __name__ == \"__main__\":\n",
    "    main()"
   ]
  },
  {
   "cell_type": "code",
   "execution_count": 72,
   "metadata": {},
   "outputs": [
    {
     "name": "stdout",
     "output_type": "stream",
     "text": [
      "Given the expression in Postfix\n",
      "a b c / - d e f g ^ ^ * +\n",
      "Postfix expression:\n",
      "7 8 + 3 2 + /\n",
      "Postfix evaluation: \n",
      "3.0\n",
      "Postfix expression:\n",
      "7 6 5 / - 4 3 2 1 ^ ^ * +\n",
      "Postfix evaluation: \n",
      "41.8\n",
      "Postfix expression:\n",
      "1 2 3 / - 4 5 6 7 ^ ^ * +\n",
      "Postfix evaluation: \n",
      "Error: Result is a very large number\n"
     ]
    }
   ],
   "source": [
    "def main():\n",
    "    try:\n",
    "        print(\"Given the expression in Postfix\")\n",
    "        print(\"a b c / - d e f g ^ ^ * +\")\n",
    "        postfix_expr = '7 8 + 3 2 + /'\n",
    "        print(\"Postfix expression:\\n\"+postfix_expr)\n",
    "        print(\"Postfix evaluation: \")\n",
    "        print(postfix_eval(postfix_expr))\n",
    "        postfix_expr = '7 6 5 / - 4 3 2 1 ^ ^ * +'\n",
    "        print(\"Postfix expression:\\n\"+postfix_expr)\n",
    "        print(\"Postfix evaluation: \")\n",
    "        print(postfix_eval(postfix_expr))\n",
    "        postfix_expr = '1 2 3 / - 4 5 6 7 ^ ^ * +'\n",
    "        print(\"Postfix expression:\\n\" + postfix_expr)\n",
    "        print(\"Postfix evaluation: \")\n",
    "        print(postfix_eval(postfix_expr))\n",
    "        result = postfix_eval('1 2 3 / - 4 5 6 7 ^ ^ * +')\n",
    "        print(\"Postfix expression:\", '1 2 3 / - 4 5 6 7 ^ ^ * +')\n",
    "        print(\"Postfix evaluation:\", result)\n",
    "    except LargeNumberError as ln_err:\n",
    "        print(\"Error:\", ln_err)\n",
    "\n",
    "if __name__ == \"__main__\":\n",
    "    main()"
   ]
  }
 ],
 "metadata": {
  "kernelspec": {
   "display_name": "Python 3",
   "language": "python",
   "name": "python3"
  },
  "language_info": {
   "codemirror_mode": {
    "name": "ipython",
    "version": 3
   },
   "file_extension": ".py",
   "mimetype": "text/x-python",
   "name": "python",
   "nbconvert_exporter": "python",
   "pygments_lexer": "ipython3",
   "version": "3.11.4"
  }
 },
 "nbformat": 4,
 "nbformat_minor": 2
}
