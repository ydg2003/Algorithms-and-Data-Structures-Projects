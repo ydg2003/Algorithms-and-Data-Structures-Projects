{
 "cells": [
  {
   "cell_type": "markdown",
   "metadata": {},
   "source": [
    "# Lab4\n",
    "#### Fidel Diaz | 3-751-509 | 1SF125 | fidel.diaz@utp.ac.pa"
   ]
  },
  {
   "cell_type": "markdown",
   "metadata": {},
   "source": [
    "# Part1: Binary Tree\n",
    "## Problem 1. Arboles Binarios de Expresión"
   ]
  },
  {
   "cell_type": "code",
   "execution_count": 55,
   "metadata": {},
   "outputs": [],
   "source": [
    "#Implementing A Stack in Python\n",
    "# Completed implementation of a stack ADT\n",
    "class Stack:\n",
    "    def __init__(self):\n",
    "        self.items = []\n",
    "        \n",
    "    def is_empty(self):\n",
    "        return self.items == []\n",
    "\n",
    "    def push(self, item):\n",
    "        self.items.append(item)\n",
    "\n",
    "    def pop(self):\n",
    "        return self.items.pop()\n",
    "\n",
    "    def peek(self):\n",
    "        return self.items[len(self.items)-1]\n",
    "\n",
    "    def size(self):\n",
    "        return len(self.items)"
   ]
  },
  {
   "cell_type": "code",
   "execution_count": 56,
   "metadata": {},
   "outputs": [
    {
     "name": "stdout",
     "output_type": "stream",
     "text": [
      "True\n",
      "dog\n",
      "3\n",
      "False\n",
      "8.4\n",
      "True\n",
      "2\n",
      "<__main__.Stack object at 0x0000027030A33950>\n"
     ]
    }
   ],
   "source": [
    "# Stack object and then use it.\n",
    "def main():\n",
    "    s = Stack()\n",
    "    print(s.is_empty())\n",
    "    s.push(4)\n",
    "    s.push('dog')\n",
    "    print(s.peek())\n",
    "    s.push(True)\n",
    "    print(s.size())\n",
    "    print(s.is_empty())\n",
    "    s.push(8.4)\n",
    "    print(s.pop())\n",
    "    print(s.pop())\n",
    "    print(s.size())\n",
    "    print(s)\n",
    "if __name__ == \"__main__\":\n",
    "    main()"
   ]
  },
  {
   "cell_type": "code",
   "execution_count": 57,
   "metadata": {},
   "outputs": [
    {
     "name": "stdout",
     "output_type": "stream",
     "text": [
      "3.0\n"
     ]
    }
   ],
   "source": [
    "\"\"\"\"Postfix Evaluation Algorithm\n",
    "Calculates the result of a mathematical expression provided in postfix notation. \n",
    "Input: postfix_expr: A string representing a mathematical expression in postfix notation. \n",
    "The expression may contain integers, basic arithmetic operators (+, -, *, /), and exponentiation (^).\n",
    "Output:The result of evaluating the postfix mathematical expression.\n",
    "\"\"\"\n",
    "#import Stack # As previously defined\n",
    "def postfix_eval(postfix_expr):\n",
    "    operand_stack = Stack()\n",
    "    token_list = postfix_expr.split()\n",
    "    \n",
    "    for token in token_list:\n",
    "        if token in \"0123456789\":\n",
    "            operand_stack.push(int(token))\n",
    "        else:\n",
    "            operand2 = operand_stack.pop()\n",
    "            operand1 = operand_stack.pop()\n",
    "            result = do_math(token, operand1, operand2)\n",
    "            operand_stack.push(result)\n",
    "    return operand_stack.pop()\n",
    "def do_math(op, op1, op2):\n",
    "    op1 = float(op1)\n",
    "    op2 = float(op2)\n",
    "    if op == \"*\":\n",
    "        return op1 * op2\n",
    "    elif op == \"/\":\n",
    "        return op1 / op2\n",
    "    elif op == \"+\":\n",
    "        return op1 + op2\n",
    "    elif op == \"-\":\n",
    "        return op1 - op2\n",
    "    else:\n",
    "        return op1**op2\n",
    "def main():\n",
    "    print(postfix_eval('7 8 + 3 2 + /'))\n",
    "if __name__ == \"__main__\":\n",
    "    main()"
   ]
  },
  {
   "cell_type": "code",
   "execution_count": 58,
   "metadata": {},
   "outputs": [],
   "source": [
    "#Postfix Evaluation\n",
    "# import Stack # As previously defined\n",
    "\"\"\"\n",
    "class Stack:\n",
    "    def __init__(self):\n",
    "        self.items = []\n",
    "\n",
    "    def push(self, item):\n",
    "        self.items.append(item)\n",
    "\n",
    "    def pop(self):\n",
    "        return self.items.pop()\n",
    "\n",
    "    def isEmpty(self):\n",
    "        return len(self.items) == 0\n",
    "\"\"\"\n",
    "class LargeNumberError(Exception):\n",
    "    pass\n",
    "\n",
    "def postfix_eval(postfix_expr):\n",
    "    operand_stack = Stack()\n",
    "    token_list = postfix_expr.split()\n",
    "\n",
    "    for token in token_list:\n",
    "        try:\n",
    "            if token in \"0123456789\":\n",
    "                operand_stack.push(float(token))\n",
    "            else:\n",
    "                operand2 = operand_stack.pop()\n",
    "                operand1 = operand_stack.pop()\n",
    "                result = do_math(token, operand1, operand2)\n",
    "                operand_stack.push(result)\n",
    "        except OverflowError:\n",
    "            raise LargeNumberError(\"Result is a very large number\")\n",
    "\n",
    "    return operand_stack.pop()\n",
    "\n",
    "def do_math(op, op1, op2):\n",
    "    if op == \"*\":\n",
    "        return op1 * op2\n",
    "    elif op == \"/\":\n",
    "        if op2 == 0:\n",
    "            raise ZeroDivisionError(\"Cannot divide by zero\")\n",
    "        return op1 / op2\n",
    "    elif op == \"+\":\n",
    "        return op1 + op2\n",
    "    elif op == \"-\":\n",
    "        return op1 - op2\n",
    "    else:\n",
    "        return op1 ** op2"
   ]
  },
  {
   "cell_type": "code",
   "execution_count": 59,
   "metadata": {},
   "outputs": [
    {
     "name": "stdout",
     "output_type": "stream",
     "text": [
      "41\n"
     ]
    }
   ],
   "source": [
    "#Alternative Algorithm\n",
    "# Python program to evaluate value of a postfix\n",
    "# expression with integers containing multiple digits\n",
    "class evalpostfix:\n",
    "\tdef __init__(self):\n",
    "\t\tself.stack = []\n",
    "\t\tself.top = -1\n",
    "\n",
    "\tdef pop(self):\n",
    "\t\tif self.top == -1:\n",
    "\t\t\treturn\n",
    "\t\telse:\n",
    "\t\t\tself.top -= 1\n",
    "\t\t\treturn self.stack.pop()\n",
    "\n",
    "\tdef push(self, i):\n",
    "\t\tself.top += 1\n",
    "\t\tself.stack.append(i)\n",
    "\n",
    "\tdef centralfunc(self, ab):\n",
    "\t\tfor i in ab:\n",
    "\n",
    "\t\t\t# If the component of the list is an integer\n",
    "\t\t\ttry:\n",
    "\t\t\t\tself.push(int(i))\n",
    "\t\t\t\n",
    "\t\t\t# If the component of the list is not an integer,\n",
    "\t\t\t# it must be an operator. Using ValueError, we can\n",
    "\t\t\t# evaluate components of the list other than type int\n",
    "\t\t\texcept ValueError:\n",
    "\t\t\t\tval1 = self.pop()\n",
    "\t\t\t\tval2 = self.pop()\n",
    "\t\t\t\tif i == '/':\n",
    "\t\t\t\t\tself.push(val2 / val1)\n",
    "\t\t\t\telse:\n",
    "\t\t\t\t\t\n",
    "\t\t\t\t\t# Switch statement to perform operation\n",
    "\t\t\t\t\tswitcher = {'+': val2 + val1, '-': val2 -\n",
    "\t\t\t\t\t\t\t\tval1, '*': val2 * val1, '^': val2**val1}\n",
    "\t\t\t\t\tself.push(switcher.get(i))\n",
    "\t\treturn int(self.pop())\n",
    "\n",
    "\n",
    "\n",
    "# Driver code\n",
    "if __name__ == '__main__':\n",
    "\tstr = '7 6 5 / - 4 3 2 1 ^ ^ * +'\n",
    "\t\n",
    "\t# Splitting the given string to obtain\n",
    "\t# integers and operators into a list\n",
    "\tstrconv = str.split(' ')\n",
    "\tobj = evalpostfix()\n",
    "\tprint(obj.centralfunc(strconv))\n",
    "\n",
    "# This code is contributed by Amarnath Reddy"
   ]
  },
  {
   "cell_type": "markdown",
   "metadata": {},
   "source": [
    "##### Su algoritmo debe ser capaz de:\n",
    "##### a. Evaluar una expresión valida y dar su resultado.\n",
    "##### b. Verificar e imprimir si hay algún error en la escritura de la expresión dada por el usuario."
   ]
  },
  {
   "cell_type": "code",
   "execution_count": 60,
   "metadata": {},
   "outputs": [
    {
     "name": "stdout",
     "output_type": "stream",
     "text": [
      "Given the expression in Postfix\n",
      "a b c / - d e f g ^ ^ * +\n",
      "Postfix expression:\n",
      "7 8 + 3 2 + /\n",
      "Postfix evaluation: \n",
      "3.0\n",
      "Postfix expression:\n",
      "7 6 5 / - 4 3 2 1 ^ ^ * +\n",
      "Postfix evaluation: \n",
      "41.8\n"
     ]
    }
   ],
   "source": [
    "def main():\n",
    "    print(\"Given the expression in Postfix\")\n",
    "    print(\"a b c / - d e f g ^ ^ * +\")\n",
    "    postfix_expr = '7 8 + 3 2 + /'\n",
    "    print(\"Postfix expression:\\n\"+postfix_expr)\n",
    "    print(\"Postfix evaluation: \")\n",
    "    print(postfix_eval(postfix_expr))\n",
    "    postfix_expr = '7 6 5 / - 4 3 2 1 ^ ^ * +'\n",
    "    print(\"Postfix expression:\\n\"+postfix_expr)\n",
    "    print(\"Postfix evaluation: \")\n",
    "    print(postfix_eval(postfix_expr))\n",
    "if __name__ == \"__main__\":\n",
    "    main()"
   ]
  },
  {
   "cell_type": "code",
   "execution_count": 61,
   "metadata": {},
   "outputs": [
    {
     "name": "stdout",
     "output_type": "stream",
     "text": [
      "Given the expression in Postfix\n",
      "a b c / - d e f g ^ ^ * +\n",
      "Postfix expression:\n",
      "7 8 + 3 2 + /\n",
      "Postfix evaluation: \n",
      "3.0\n",
      "Postfix expression:\n",
      "7 6 5 / - 4 3 2 1 ^ ^ * +\n",
      "Postfix evaluation: \n",
      "41.8\n",
      "Postfix expression:\n",
      "1 2 3 / - 4 5 6 7 ^ ^ * +\n",
      "Postfix evaluation: \n",
      "Error: Result is a very large number\n"
     ]
    }
   ],
   "source": [
    "def main():\n",
    "    try:\n",
    "        print(\"Given the expression in Postfix\")\n",
    "        print(\"a b c / - d e f g ^ ^ * +\")\n",
    "        postfix_expr = '7 8 + 3 2 + /'\n",
    "        print(\"Postfix expression:\\n\"+postfix_expr)\n",
    "        print(\"Postfix evaluation: \")\n",
    "        print(postfix_eval(postfix_expr))\n",
    "        postfix_expr = '7 6 5 / - 4 3 2 1 ^ ^ * +'\n",
    "        print(\"Postfix expression:\\n\"+postfix_expr)\n",
    "        print(\"Postfix evaluation: \")\n",
    "        print(postfix_eval(postfix_expr))\n",
    "        postfix_expr = '1 2 3 / - 4 5 6 7 ^ ^ * +'\n",
    "        print(\"Postfix expression:\\n\" + postfix_expr)\n",
    "        print(\"Postfix evaluation: \")\n",
    "        print(postfix_eval(postfix_expr))\n",
    "        result = postfix_eval('1 2 3 / - 4 5 6 7 ^ ^ * +')\n",
    "        print(\"Postfix expression:\", '1 2 3 / - 4 5 6 7 ^ ^ * +')\n",
    "        print(\"Postfix evaluation:\", result)\n",
    "    except LargeNumberError as ln_err:\n",
    "        print(\"Error:\", ln_err)\n",
    "\n",
    "if __name__ == \"__main__\":\n",
    "    main()"
   ]
  },
  {
   "cell_type": "code",
   "execution_count": 62,
   "metadata": {},
   "outputs": [],
   "source": [
    "#Given the expression in Postfix\n",
    "#a b c / - d e f g ^ ^ * +\n",
    "#Add tree dot representation and save png."
   ]
  },
  {
   "cell_type": "markdown",
   "metadata": {},
   "source": [
    "## Problem2. Binary Search Trees"
   ]
  },
  {
   "cell_type": "code",
   "execution_count": 63,
   "metadata": {},
   "outputs": [
    {
     "name": "stdout",
     "output_type": "stream",
     "text": [
      "Requirement already satisfied: bigtree in c:\\users\\diazj\\appdata\\local\\programs\\python\\python311\\lib\\site-packages (0.14.4)\n",
      "Note: you may need to restart the kernel to use updated packages.\n"
     ]
    }
   ],
   "source": [
    "%pip install bigtree"
   ]
  },
  {
   "cell_type": "markdown",
   "metadata": {},
   "source": [
    "##### 1. Escribir código de Bigtree que genere el árbol dado en la imagen a la derecha."
   ]
  },
  {
   "cell_type": "code",
   "execution_count": 64,
   "metadata": {},
   "outputs": [
    {
     "name": "stdout",
     "output_type": "stream",
     "text": [
      "f\n",
      "├── c\n",
      "│   ├── a\n",
      "│   └── e\n",
      "│       └── d\n",
      "└── m\n",
      "    └── g\n",
      "        └── j\n"
     ]
    }
   ],
   "source": [
    "from bigtree import Node, tree_to_dot\n",
    "\n",
    "# Create root node\n",
    "root = Node(\"f\")\n",
    "\n",
    "# Create child nodes\n",
    "c = Node(\"c\")\n",
    "a = Node(\"a\")\n",
    "e = Node(\"e\")\n",
    "d = Node(\"d\")\n",
    "m = Node(\"m\")\n",
    "g = Node(\"g\")\n",
    "j = Node(\"j\")\n",
    "\n",
    "# Assign children and parent relationships\n",
    "root.children = [c, m]\n",
    "c.children = [a, e]\n",
    "e.children = [d]\n",
    "m.children = [g]\n",
    "g.children = [j]\n",
    "\n",
    "# Print the tree structure\n",
    "root.show()\n",
    "\n",
    "# Convert tree to DOT format\n",
    "graph = tree_to_dot(root)\n",
    "\n",
    "# Write DOT file \n",
    "graph.write_raw('tree.dot')"
   ]
  },
  {
   "cell_type": "code",
   "execution_count": 65,
   "metadata": {},
   "outputs": [
    {
     "name": "stdout",
     "output_type": "stream",
     "text": [
      "f\n",
      "├── c\n",
      "│   ├── a\n",
      "│   └── e\n",
      "│       └── d\n",
      "└── m\n",
      "    └── g\n",
      "        └── j\n"
     ]
    }
   ],
   "source": [
    "#Alternative Code\n",
    "from bigtree import Node, tree_to_dot\n",
    "\n",
    "# Create root node\n",
    "root = Node(\"f\")\n",
    "\n",
    "# Create child nodes\n",
    "c = Node(\"c\")\n",
    "a = Node(\"a\")\n",
    "e = Node(\"e\")\n",
    "d = Node(\"d\")\n",
    "m = Node(\"m\")\n",
    "g = Node(\"g\")\n",
    "j = Node(\"j\")\n",
    "\n",
    "# Assign children and parent relationships\n",
    "root.children = [c, m]\n",
    "c.children = [a, e]\n",
    "d.parent = e\n",
    "g.parent = m\n",
    "j.parent = g\n",
    "\n",
    "# Print the tree structure\n",
    "root.show()\n",
    "\n",
    "# Convert tree to DOT format\n",
    "graph = tree_to_dot(root)\n",
    "\n",
    "# Write DOT file \n",
    "graph.write_raw('tree2.dot')"
   ]
  },
  {
   "cell_type": "markdown",
   "metadata": {},
   "source": [
    "##### 2. Recorra el árbol en pre-orden, post-orden, y en orden. Sugerencia: utilizar compresión de lista sobre la estructura node.name()."
   ]
  },
  {
   "cell_type": "code",
   "execution_count": 66,
   "metadata": {},
   "outputs": [
    {
     "name": "stdout",
     "output_type": "stream",
     "text": [
      "f\n",
      "├── c\n",
      "│   ├── a\n",
      "│   └── e\n",
      "│       └── d\n",
      "└── m\n",
      "    └── g\n",
      "        └── j\n"
     ]
    }
   ],
   "source": [
    "from bigtree import Node, preorder_iter, postorder_iter, levelorder_iter, levelordergroup_iter, zigzag_iter, zigzaggroup_iter\n",
    "\n",
    "# Create tree\n",
    "root = Node(\"f\")\n",
    "c = Node(\"c\")\n",
    "a = Node(\"a\")\n",
    "e = Node(\"e\")\n",
    "d = Node(\"d\")\n",
    "m = Node(\"m\")\n",
    "g = Node(\"g\")\n",
    "j = Node(\"j\")\n",
    "root.children = [c, m]\n",
    "c.children = [a, e]\n",
    "e.children = [d]\n",
    "m.children = [g]\n",
    "g.children = [j]\n",
    "root.show()"
   ]
  },
  {
   "cell_type": "code",
   "execution_count": 67,
   "metadata": {},
   "outputs": [
    {
     "data": {
      "text/plain": [
       "['f', 'c', 'a', 'e', 'd', 'm', 'g', 'j']"
      ]
     },
     "execution_count": 67,
     "metadata": {},
     "output_type": "execute_result"
    }
   ],
   "source": [
    "[node.name for node in preorder_iter(root)]"
   ]
  },
  {
   "cell_type": "code",
   "execution_count": 68,
   "metadata": {},
   "outputs": [
    {
     "data": {
      "text/plain": [
       "['a', 'd', 'e', 'c', 'j', 'g', 'm', 'f']"
      ]
     },
     "execution_count": 68,
     "metadata": {},
     "output_type": "execute_result"
    }
   ],
   "source": [
    "[node.name for node in postorder_iter(root)]"
   ]
  },
  {
   "cell_type": "code",
   "execution_count": 69,
   "metadata": {},
   "outputs": [
    {
     "data": {
      "text/plain": [
       "['f', 'c', 'm', 'a', 'e', 'g', 'd', 'j']"
      ]
     },
     "execution_count": 69,
     "metadata": {},
     "output_type": "execute_result"
    }
   ],
   "source": [
    "[node.name for node in levelorder_iter(root)]"
   ]
  },
  {
   "cell_type": "markdown",
   "metadata": {},
   "source": [
    "##### 3. Implemente la búsqueda de nodos particulares, por ejemplo j. \n",
    "##### a. ¿Cual es el camino (path) que se toma para llegar a j? \n",
    "##### b. ¿Cual es el camino (path) que se toma para llegar a d? Sugerencia: utilizar comandos find() y find_full_path()\n",
    "Example code is imported from https://bigtree.readthedocs.io/en/latest/"
   ]
  },
  {
   "cell_type": "code",
   "execution_count": 70,
   "metadata": {},
   "outputs": [
    {
     "name": "stdout",
     "output_type": "stream",
     "text": [
      "f [value=1]\n",
      "├── c [value=2]\n",
      "│   ├── a [value=3]\n",
      "│   └── e [value=4]\n",
      "│       └── d [value=5]\n",
      "└── m [value=6]\n",
      "    └── g [value=7]\n",
      "        └── j [value=8]\n"
     ]
    }
   ],
   "source": [
    "from bigtree import Node, find, find_name, find_paths\n",
    "\n",
    "# Create tree\n",
    "root1 = Node(\"f\", value=1)\n",
    "c = Node(\"c\", value=2)\n",
    "a = Node(\"a\", value=3)\n",
    "e = Node(\"e\", value=4)\n",
    "d = Node(\"d\", value=5)\n",
    "m = Node(\"m\", value=6)\n",
    "g = Node(\"g\", value=7)\n",
    "j = Node(\"j\", value=8)\n",
    "root1.children = [c, m]\n",
    "c.children = [a, e]\n",
    "e.children = [d]\n",
    "m.children = [g]\n",
    "g.children = [j]\n",
    "root1.show(attr_list=[\"value\"])"
   ]
  },
  {
   "cell_type": "code",
   "execution_count": 71,
   "metadata": {},
   "outputs": [
    {
     "data": {
      "text/plain": [
       "Node(/f/m/g/j, value=8)"
      ]
     },
     "execution_count": 71,
     "metadata": {},
     "output_type": "execute_result"
    }
   ],
   "source": [
    "find(root1, lambda node: node.value == 8)"
   ]
  },
  {
   "cell_type": "code",
   "execution_count": 72,
   "metadata": {},
   "outputs": [
    {
     "data": {
      "text/plain": [
       "Node(/f/c/e/d, value=5)"
      ]
     },
     "execution_count": 72,
     "metadata": {},
     "output_type": "execute_result"
    }
   ],
   "source": [
    "find(root1, lambda node: node.value == 5)"
   ]
  },
  {
   "cell_type": "code",
   "execution_count": 73,
   "metadata": {},
   "outputs": [
    {
     "data": {
      "text/plain": [
       "Node(/f/m/g/j, value=8)"
      ]
     },
     "execution_count": 73,
     "metadata": {},
     "output_type": "execute_result"
    }
   ],
   "source": [
    "find_name(root1, \"j\")"
   ]
  },
  {
   "cell_type": "code",
   "execution_count": 74,
   "metadata": {},
   "outputs": [
    {
     "data": {
      "text/plain": [
       "Node(/f/c/e/d, value=5)"
      ]
     },
     "execution_count": 74,
     "metadata": {},
     "output_type": "execute_result"
    }
   ],
   "source": [
    "find_name(root1, \"d\")"
   ]
  },
  {
   "cell_type": "code",
   "execution_count": 75,
   "metadata": {},
   "outputs": [
    {
     "data": {
      "text/plain": [
       "(Node(/f/m/g/j, value=8),)"
      ]
     },
     "execution_count": 75,
     "metadata": {},
     "output_type": "execute_result"
    }
   ],
   "source": [
    "find_paths(root1, \"/j\")"
   ]
  },
  {
   "cell_type": "code",
   "execution_count": 76,
   "metadata": {},
   "outputs": [
    {
     "data": {
      "text/plain": [
       "(Node(/f/c/e/d, value=5),)"
      ]
     },
     "execution_count": 76,
     "metadata": {},
     "output_type": "execute_result"
    }
   ],
   "source": [
    "find_paths(root1, \"/d\")"
   ]
  },
  {
   "cell_type": "markdown",
   "metadata": {},
   "source": [
    "### Chat GPT Example"
   ]
  },
  {
   "cell_type": "code",
   "execution_count": 77,
   "metadata": {},
   "outputs": [
    {
     "name": "stdout",
     "output_type": "stream",
     "text": [
      "f\n",
      "├── c\n",
      "│   ├── a\n",
      "│   └── e\n",
      "│       └── d\n",
      "└── m\n",
      "    └── g\n",
      "        └── j\n",
      "Path to j\n",
      " f/m/g/j\n",
      "Path to d\n",
      " f/c/e/d\n"
     ]
    }
   ],
   "source": [
    "from bigtree import Node\n",
    "\n",
    "def find_name(node, target_name, current_path=None):\n",
    "    if current_path is None:\n",
    "        current_path = [node.name]\n",
    "    else:\n",
    "        current_path.append(node.name)\n",
    "\n",
    "    if node.name == target_name:\n",
    "        return \"/\".join(current_path)\n",
    "\n",
    "    for child in node.children:\n",
    "        result = find_name(child, target_name, current_path.copy())\n",
    "        if result:\n",
    "            return result\n",
    "\n",
    "    return None\n",
    "\n",
    "# Create tree\n",
    "root = Node(\"f\")\n",
    "c = Node(\"c\")\n",
    "a = Node(\"a\")\n",
    "e = Node(\"e\")\n",
    "d = Node(\"d\")\n",
    "m = Node(\"m\")\n",
    "g = Node(\"g\")\n",
    "j = Node(\"j\")\n",
    "root.children = [c, m]\n",
    "c.children = [a, e]\n",
    "e.children = [d]\n",
    "m.children = [g]\n",
    "g.children = [j]\n",
    "root.show()\n",
    "\n",
    "# Find nodes by name\n",
    "print(\"Path to j\\n\",find_name(root, \"j\"))\n",
    "print(\"Path to d\\n\", find_name(root, \"d\"))\n",
    "# This code is contributed by ChatGPT"
   ]
  },
  {
   "cell_type": "markdown",
   "metadata": {},
   "source": [
    "### Observations"
   ]
  },
  {
   "cell_type": "code",
   "execution_count": 78,
   "metadata": {},
   "outputs": [
    {
     "name": "stdout",
     "output_type": "stream",
     "text": [
      "a [age=90]\n",
      "├── b [age=65]\n",
      "└── c [age=60]\n",
      "    └── d [age=40]\n"
     ]
    },
    {
     "data": {
      "text/plain": [
       "'\\nComment:\\nCondicion: Assuming the above code has no errors.\\n1. Notebook in Visual Studio code does not allow the use of multiple find methods at the same time, they have to be run separately.\\n2. The same pattern is repeated running the code in Google Colab.\\n3. Even when running the code it randomly executes the find() method and does not follow the sequence as the code is written.\\nThis code is import from https://bigtree.readthedocs.io/en/latest/\\n'"
      ]
     },
     "execution_count": 78,
     "metadata": {},
     "output_type": "execute_result"
    }
   ],
   "source": [
    "from bigtree import Node, find, find_name, find_path, find_relative_path, find_full_path, find_attr\n",
    "root = Node(\"a\", age=90)\n",
    "b = Node(\"b\", age=65, parent=root)\n",
    "c = Node(\"c\", age=60, parent=root)\n",
    "d = Node(\"d\", age=40, parent=c)\n",
    "root.show(attr_list=[\"age\"])\n",
    "# a [age=90]\n",
    "# ├── b [age=65]\n",
    "# └── c [age=60]\n",
    "#     └── d [age=40]\n",
    "\n",
    "find(root, lambda node: node.age == 60)\n",
    "# Node(/a/c, age=60)\n",
    "\n",
    "find_name(root, \"d\")\n",
    "# Node(/a/c/d, age=40)\n",
    "\n",
    "find_path(root, \"/c/d\")  # partial path\n",
    "# Node(/a/c/d, age=40)\n",
    "\n",
    "find_relative_path(c, \"../b\")  # relative path\n",
    "# (Node(/a/b, age=65),)\n",
    "\n",
    "find_full_path(root, \"a/c/d\")  # full path\n",
    "# Node(/a/c/d, age=40)\n",
    "\n",
    "find_attr(root, \"age\", 40)\n",
    "# Node(/a/c/d, age=40)\n",
    "\"\"\"\n",
    "Comment:\n",
    "Condicion: Assuming the above code has no errors.\n",
    "1. Notebook in Visual Studio code does not allow the use of multiple find methods at the same time, they have to be run separately.\n",
    "2. The same pattern is repeated running the code in Google Colab.\n",
    "3. Even when running the code it randomly executes the find() method and does not follow the sequence as the code is written.\n",
    "This code is import from https://bigtree.readthedocs.io/en/latest/\n",
    "\"\"\"\n",
    "#It seems that in ipynb notebooks the output of comments in blocks does have importance in the output of the code.\n",
    "#Python codes .py does not consider block comments in output."
   ]
  },
  {
   "cell_type": "code",
   "execution_count": 79,
   "metadata": {},
   "outputs": [
    {
     "data": {
      "text/plain": [
       "(Node(/a/b, age=65),)"
      ]
     },
     "execution_count": 79,
     "metadata": {},
     "output_type": "execute_result"
    }
   ],
   "source": [
    "find_relative_path(c, \"../b\")  # relative path\n",
    "# (Node(/a/b, age=65),)"
   ]
  },
  {
   "cell_type": "markdown",
   "metadata": {},
   "source": [
    "##### 4. Utilice los métodos para copiar y modificar el árbol para recrear la agregación del nodo j al árbol dado. Sugerencia: usar los métodos dados en la documentación2 "
   ]
  },
  {
   "cell_type": "code",
   "execution_count": 80,
   "metadata": {},
   "outputs": [
    {
     "name": "stdout",
     "output_type": "stream",
     "text": [
      "k\n",
      "├── c\n",
      "│   ├── a\n",
      "│   └── h\n",
      "│       └── f\n",
      "└── t\n",
      "    └── m\n",
      "        └── p\n"
     ]
    }
   ],
   "source": [
    "from bigtree import Node, tree_to_dot, find_name, shift_nodes, shift_and_replace_nodes\n",
    "\n",
    "# Create root node\n",
    "root2 = Node(\"k\")\n",
    "\n",
    "# Create child nodes\n",
    "c = Node(\"c\")\n",
    "a = Node(\"a\")\n",
    "h = Node(\"h\")\n",
    "f = Node(\"f\")\n",
    "t = Node(\"t\")\n",
    "m = Node(\"m\")\n",
    "p = Node(\"p\")\n",
    "\n",
    "# Assign children and parent relationships\n",
    "root2.children = [c, t]\n",
    "c.children = [a, h]\n",
    "h.children = [f]\n",
    "t.children = [m]\n",
    "m.children = [p]\n",
    "\n",
    "# Print the tree structure\n",
    "root2.show()\n",
    "\n",
    "# Convert tree to DOT format\n",
    "graph = tree_to_dot(root2)\n",
    "\n",
    "# Write DOT file \n",
    "graph.write_raw('tree2.dot')"
   ]
  },
  {
   "cell_type": "code",
   "execution_count": 81,
   "metadata": {},
   "outputs": [
    {
     "data": {
      "text/plain": [
       "Node(/k/c/h, )"
      ]
     },
     "execution_count": 81,
     "metadata": {},
     "output_type": "execute_result"
    }
   ],
   "source": [
    "find_name(root2, \"h\")"
   ]
  },
  {
   "cell_type": "code",
   "execution_count": 82,
   "metadata": {},
   "outputs": [
    {
     "data": {
      "text/plain": [
       "'\"# Shift nodes to add \"j\" as a child to \"h\"\\nshift_nodes(\\n   root2,\\n   from_paths=[\"k/c/h, k/p\"],\\n   to_paths=[\"k/c/h, k/p\"],\\n   merge_children = true\\n)\\nroot2.show()\\n'"
      ]
     },
     "execution_count": 82,
     "metadata": {},
     "output_type": "execute_result"
    }
   ],
   "source": [
    "\"\"\"\"# Shift nodes to add \"j\" as a child to \"h\"\n",
    "shift_nodes(\n",
    "   root2,\n",
    "   from_paths=[\"k/c/h, k/p\"],\n",
    "   to_paths=[\"k/c/h, k/p\"],\n",
    "   merge_children = true\n",
    ")\n",
    "root2.show()\n",
    "\"\"\"\n",
    "#Posible solucion seria copiar desde un nodo a otro nodo.\n",
    "# merge_children"
   ]
  },
  {
   "cell_type": "markdown",
   "metadata": {},
   "source": [
    "##### 5. Utilice los métodos para copiar y modificar el árbol para recrear la agregación del nodo j al árbol dado. Sugerencia: usar los métodos dados en la documentación2."
   ]
  },
  {
   "cell_type": "code",
   "execution_count": null,
   "metadata": {},
   "outputs": [],
   "source": []
  },
  {
   "cell_type": "markdown",
   "metadata": {},
   "source": [
    "##### 6. Utilice el metodo get_tree_diff() para comparar el arbol original con los generados por cada una de las modificaciones."
   ]
  },
  {
   "cell_type": "code",
   "execution_count": null,
   "metadata": {},
   "outputs": [],
   "source": []
  },
  {
   "cell_type": "markdown",
   "metadata": {},
   "source": [
    "# Part2: Graphs and Networks\n",
    "## Problem 3. Algoritmos del camino más corto"
   ]
  },
  {
   "cell_type": "markdown",
   "metadata": {},
   "source": [
    "##### a. Imprima la matriz final del calculo hecho por el algoritmo Floyd-Warshall."
   ]
  },
  {
   "cell_type": "code",
   "execution_count": null,
   "metadata": {},
   "outputs": [],
   "source": []
  },
  {
   "cell_type": "markdown",
   "metadata": {},
   "source": [
    "##### b. Imprima la matriz final del calculo hecho por el algoritmo de Dijkstra."
   ]
  },
  {
   "cell_type": "code",
   "execution_count": null,
   "metadata": {},
   "outputs": [],
   "source": []
  },
  {
   "cell_type": "markdown",
   "metadata": {},
   "source": [
    "##### c. Utilizando el modulo time (visto en el Laboratorio #1), Calcule cual de los dos algoritmos realiza el calculo de manera mas rápida. Comente sobre como se comparan ambas respuestas ambas respuestas."
   ]
  },
  {
   "cell_type": "code",
   "execution_count": null,
   "metadata": {},
   "outputs": [],
   "source": []
  },
  {
   "cell_type": "markdown",
   "metadata": {},
   "source": [
    "##### d. Utilizando la librería NetworkX de Python (https://networkx.github.io/), cree un grafo y un dígrafo que represente las conexiones entre estas ciudades."
   ]
  },
  {
   "cell_type": "code",
   "execution_count": null,
   "metadata": {},
   "outputs": [],
   "source": []
  }
 ],
 "metadata": {
  "kernelspec": {
   "display_name": "Python 3 (ipykernel)",
   "language": "python",
   "name": "python3"
  },
  "language_info": {
   "codemirror_mode": {
    "name": "ipython",
    "version": 3
   },
   "file_extension": ".py",
   "mimetype": "text/x-python",
   "name": "python",
   "nbconvert_exporter": "python",
   "pygments_lexer": "ipython3",
   "version": "3.10.9"
  }
 },
 "nbformat": 4,
 "nbformat_minor": 2
}
