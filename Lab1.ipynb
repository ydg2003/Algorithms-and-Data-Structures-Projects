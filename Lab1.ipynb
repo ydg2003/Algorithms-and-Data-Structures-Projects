{
 "cells": [
  {
   "cell_type": "markdown",
   "metadata": {},
   "source": [
    "# Lab #1\n",
    "#### Fidel Diaz 3-751-509\n",
    "#### 1SF125\n",
    "#### fidel.diaz@utp.ac.pa"
   ]
  },
  {
   "cell_type": "markdown",
   "metadata": {},
   "source": [
    "# Problem1"
   ]
  },
  {
   "cell_type": "code",
   "execution_count": null,
   "metadata": {},
   "outputs": [],
   "source": []
  },
  {
   "cell_type": "code",
   "execution_count": 13,
   "metadata": {},
   "outputs": [
    {
     "name": "stdout",
     "output_type": "stream",
     "text": [
      "\n"
     ]
    }
   ],
   "source": [
    "print()"
   ]
  },
  {
   "cell_type": "code",
   "execution_count": 3,
   "metadata": {},
   "outputs": [
    {
     "data": {
      "text/plain": [
       "<function print(*args, sep=' ', end='\\n', file=None, flush=False)>"
      ]
     },
     "execution_count": 3,
     "metadata": {},
     "output_type": "execute_result"
    }
   ],
   "source": [
    "print"
   ]
  },
  {
   "cell_type": "code",
   "execution_count": 4,
   "metadata": {},
   "outputs": [
    {
     "name": "stdout",
     "output_type": "stream",
     "text": [
      "hola mundo\n"
     ]
    }
   ],
   "source": [
    "print(\"hola mundo\")"
   ]
  },
  {
   "cell_type": "code",
   "execution_count": 5,
   "metadata": {},
   "outputs": [
    {
     "ename": "NameError",
     "evalue": "name 'Print' is not defined",
     "output_type": "error",
     "traceback": [
      "\u001b[1;31m---------------------------------------------------------------------------\u001b[0m",
      "\u001b[1;31mNameError\u001b[0m                                 Traceback (most recent call last)",
      "Cell \u001b[1;32mIn[5], line 1\u001b[0m\n\u001b[1;32m----> 1\u001b[0m Print(\u001b[39m\"\u001b[39m\u001b[39mhola mundo\u001b[39m\u001b[39m\"\u001b[39m)\n",
      "\u001b[1;31mNameError\u001b[0m: name 'Print' is not defined"
     ]
    }
   ],
   "source": [
    "Print(\"hola mundo\")"
   ]
  },
  {
   "cell_type": "code",
   "execution_count": 6,
   "metadata": {},
   "outputs": [
    {
     "ename": "NameError",
     "evalue": "name 'Print' is not defined",
     "output_type": "error",
     "traceback": [
      "\u001b[1;31m---------------------------------------------------------------------------\u001b[0m",
      "\u001b[1;31mNameError\u001b[0m                                 Traceback (most recent call last)",
      "Cell \u001b[1;32mIn[6], line 1\u001b[0m\n\u001b[1;32m----> 1\u001b[0m Print()\n",
      "\u001b[1;31mNameError\u001b[0m: name 'Print' is not defined"
     ]
    }
   ],
   "source": [
    "Print()"
   ]
  },
  {
   "cell_type": "code",
   "execution_count": 8,
   "metadata": {},
   "outputs": [
    {
     "name": "stdout",
     "output_type": "stream",
     "text": [
      "5\n",
      "a\n"
     ]
    }
   ],
   "source": [
    "a=5\n",
    "print(a)\n",
    "print('a')"
   ]
  },
  {
   "cell_type": "code",
   "execution_count": 9,
   "metadata": {},
   "outputs": [
    {
     "ename": "SyntaxError",
     "evalue": "invalid syntax (971116799.py, line 5)",
     "output_type": "error",
     "traceback": [
      "\u001b[1;36m  Cell \u001b[1;32mIn[9], line 5\u001b[1;36m\u001b[0m\n\u001b[1;33m    print(a)+%5\u001b[0m\n\u001b[1;37m             ^\u001b[0m\n\u001b[1;31mSyntaxError\u001b[0m\u001b[1;31m:\u001b[0m invalid syntax\n"
     ]
    }
   ],
   "source": [
    "a=5\n",
    "print(a)\n",
    "print('a')\n",
    "a+5\n",
    "print(a)+%5"
   ]
  },
  {
   "cell_type": "code",
   "execution_count": 10,
   "metadata": {},
   "outputs": [
    {
     "name": "stdout",
     "output_type": "stream",
     "text": [
      "3.11.4 (tags/v3.11.4:d2340ef, Jun  7 2023, 05:45:37) [MSC v.1934 64 bit (AMD64)]\n"
     ]
    }
   ],
   "source": [
    "'import sys; print(sys.version)'\n",
    "import sys; print(sys.version)"
   ]
  },
  {
   "cell_type": "markdown",
   "metadata": {},
   "source": [
    "# Problem2"
   ]
  },
  {
   "cell_type": "code",
   "execution_count": 14,
   "metadata": {},
   "outputs": [
    {
     "name": "stdout",
     "output_type": "stream",
     "text": [
      "Python Version: 3.11.4 (tags/v3.11.4:d2340ef, Jun  7 2023, 05:45:37) [MSC v.1934 64 bit (AMD64)]\n"
     ]
    }
   ],
   "source": [
    "import sys\n",
    "\n",
    "python_version = sys.version\n",
    "print(\"Python Version:\", python_version)"
   ]
  },
  {
   "cell_type": "code",
   "execution_count": 15,
   "metadata": {},
   "outputs": [
    {
     "name": "stdout",
     "output_type": "stream",
     "text": [
      "Current Date and Time: 2023-08-26 19:19:15\n"
     ]
    }
   ],
   "source": [
    "import time\n",
    "\n",
    "current_time = time.strftime(\"%Y-%m-%d %H:%M:%S\")\n",
    "print(\"Current Date and Time:\", current_time)"
   ]
  },
  {
   "cell_type": "code",
   "execution_count": 16,
   "metadata": {},
   "outputs": [
    {
     "name": "stdout",
     "output_type": "stream",
     "text": [
      "Sine of π: 1.2246467991473532e-16\n",
      "Cosine of π: -1.0\n"
     ]
    }
   ],
   "source": [
    "import math\n",
    "\n",
    "pi = math.pi\n",
    "sin_pi = math.sin(pi)\n",
    "cos_pi = math.cos(pi)\n",
    "\n",
    "print(\"Sine of π:\", sin_pi)\n",
    "print(\"Cosine of π:\", cos_pi)"
   ]
  },
  {
   "cell_type": "code",
   "execution_count": 19,
   "metadata": {},
   "outputs": [
    {
     "name": "stdout",
     "output_type": "stream",
     "text": [
      "Running on a Windows system. nt\n"
     ]
    }
   ],
   "source": [
    "import os\n",
    "\n",
    "os_type = os.name\n",
    "\n",
    "if os_type == \"posix\":\n",
    "    print(\"Running on a Unix or Linux system.\", os_type)\n",
    "elif os_type == \"nt\":\n",
    "    print(\"Running on a Windows system.\", os_type)\n",
    "else:\n",
    "    print(\"Operating system type not recognized:\", os_type)"
   ]
  },
  {
   "cell_type": "code",
   "execution_count": 20,
   "metadata": {},
   "outputs": [
    {
     "name": "stdout",
     "output_type": "stream",
     "text": [
      "Random Number between 0.0 and 1.0: 0.1801816557677801\n"
     ]
    }
   ],
   "source": [
    "import random\n",
    "\n",
    "random_number = random.random()\n",
    "print(\"Random Number between 0.0 and 1.0:\", random_number)"
   ]
  },
  {
   "cell_type": "markdown",
   "metadata": {},
   "source": [
    "# Problem3"
   ]
  },
  {
   "cell_type": "code",
   "execution_count": 21,
   "metadata": {},
   "outputs": [
    {
     "name": "stdout",
     "output_type": "stream",
     "text": [
      "Sum: 24.0\n"
     ]
    }
   ],
   "source": [
    "# Taking input from the user\n",
    "num1 = float(input(\"Enter the first number: \"))\n",
    "num2 = float(input(\"Enter the second number: \"))\n",
    "\n",
    "# Calculating the sum\n",
    "sum_result = num1 + num2\n",
    "\n",
    "# Printing the sum\n",
    "print(\"Sum:\", sum_result)"
   ]
  },
  {
   "cell_type": "code",
   "execution_count": 22,
   "metadata": {},
   "outputs": [
    {
     "name": "stdout",
     "output_type": "stream",
     "text": [
      "Concatenated Sentence: HelloWorld\n"
     ]
    }
   ],
   "source": [
    "# Taking input from the user\n",
    "sentence1 = input(\"Enter the first sentence: \")\n",
    "sentence2 = input(\"Enter the second sentence: \")\n",
    "\n",
    "# Concatenating the sentences\n",
    "concatenated_sentence = sentence1 + sentence2\n",
    "\n",
    "# Printing the concatenated sentence\n",
    "print(\"Concatenated Sentence:\", concatenated_sentence)"
   ]
  },
  {
   "cell_type": "code",
   "execution_count": 23,
   "metadata": {},
   "outputs": [
    {
     "name": "stdout",
     "output_type": "stream",
     "text": [
      "Multiplication Result: 608.52\n"
     ]
    }
   ],
   "source": [
    "# Taking input from the user\n",
    "num1 = float(input(\"Enter the first float number: \"))\n",
    "num2 = float(input(\"Enter the second float number: \"))\n",
    "\n",
    "# Calculating the multiplication\n",
    "result = num1 * num2\n",
    "\n",
    "# Printing the result in 2-position float format\n",
    "print(\"Multiplication Result: {:.2f}\".format(result))"
   ]
  },
  {
   "cell_type": "markdown",
   "metadata": {},
   "source": [
    "# Problem4"
   ]
  },
  {
   "cell_type": "code",
   "execution_count": 24,
   "metadata": {},
   "outputs": [
    {
     "name": "stdout",
     "output_type": "stream",
     "text": [
      "Esto es un mensaje\n",
      "Tiempo de Ejecucion:  0.0008997917175292969 segundos\n"
     ]
    }
   ],
   "source": [
    "#code1\n",
    "import time as t\n",
    "t1 = t.time()\n",
    "\n",
    "print(\"Esto es un mensaje\")\n",
    "\n",
    "t2 = t.time()\n",
    "print('Tiempo de Ejecucion: ',t2 - t1, 'segundos')"
   ]
  },
  {
   "cell_type": "code",
   "execution_count": 28,
   "metadata": {},
   "outputs": [
    {
     "name": "stdout",
     "output_type": "stream",
     "text": [
      "Total 15\n",
      "Tiempo de Ejecucion:  0.0006155967712402344 segundos\n"
     ]
    }
   ],
   "source": [
    "#code2\n",
    "import time as t\n",
    "t1 = t.time()\n",
    "\n",
    "A = 5\n",
    "B = 10\n",
    "print(\"Total\", A+B)\n",
    "\n",
    "t2 = t.time()\n",
    "print('Tiempo de Ejecucion: ',t2 - t1, 'segundos')"
   ]
  },
  {
   "cell_type": "code",
   "execution_count": 27,
   "metadata": {},
   "outputs": [
    {
     "name": "stdout",
     "output_type": "stream",
     "text": [
      "55\n",
      "Tiempo de Ejecucion:  1.4150700569152832 segundos\n"
     ]
    }
   ],
   "source": [
    "#code3\n",
    "import time as t\n",
    "t1 = t.time()\n",
    "\n",
    "def fibonacci(x):\n",
    "    a, b = 0, 1\n",
    "    for item in range(x):\n",
    "        a, b = b, a + b\n",
    "    return a\n",
    "\n",
    "x = int(input())\n",
    "print(fibonacci(x))\n",
    "\n",
    "t2 = t.time()\n",
    "print('Tiempo de Ejecucion: ',t2 - t1, 'segundos')"
   ]
  }
 ],
 "metadata": {
  "kernelspec": {
   "display_name": "Python 3",
   "language": "python",
   "name": "python3"
  },
  "language_info": {
   "codemirror_mode": {
    "name": "ipython",
    "version": 3
   },
   "file_extension": ".py",
   "mimetype": "text/x-python",
   "name": "python",
   "nbconvert_exporter": "python",
   "pygments_lexer": "ipython3",
   "version": "3.11.4"
  },
  "orig_nbformat": 4
 },
 "nbformat": 4,
 "nbformat_minor": 2
}
