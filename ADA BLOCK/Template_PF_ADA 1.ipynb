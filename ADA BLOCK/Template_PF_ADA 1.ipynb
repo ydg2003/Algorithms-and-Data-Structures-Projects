{
  "cells": [
    {
      "cell_type": "markdown",
      "metadata": {
        "id": "mtvuCre9iuQL"
      },
      "source": [
        "**Acceso a *ADA_BLOCK* Messaging Project**"
      ]
    },
    {
      "cell_type": "code",
      "execution_count": 1,
      "metadata": {
        "colab": {
          "base_uri": "https://localhost:8080/"
        },
        "id": "83Tbo8tDitOn",
        "outputId": "5131fd82-b622-46b6-f315-c69b8ec028ac"
      },
      "outputs": [
        {
          "name": "stdout",
          "output_type": "stream",
          "text": [
            "CPU quota info:\n",
            "b'{\"daily_cpu_limit_seconds\":100,\"daily_cpu_total_usage_seconds\":0.0,\"next_reset_time\":\"2023-12-09T02:14:33\"}'\n"
          ]
        }
      ],
      "source": [
        "import requests\n",
        "username = 'jsgalan'\n",
        "token = '89600f38d62242540816d5dd1a7a043597e23187'\n",
        "\n",
        "response = requests.get(\n",
        "    'https://www.pythonanywhere.com/api/v0/user/{username}/cpu/'.format(\n",
        "        username=username\n",
        "    ),\n",
        "    headers={'Authorization': 'Token {token}'.format(token=token)}\n",
        ")\n",
        "if response.status_code == 200:\n",
        "    print('CPU quota info:')\n",
        "    print(response.content)\n",
        "else:\n",
        "    print('Got unexpected status code {}: {!r}'.format(response.status_code, response.content))"
      ]
    }
  ],
  "metadata": {
    "colab": {
      "provenance": []
    },
    "kernelspec": {
      "display_name": "Python 3",
      "name": "python3"
    },
    "language_info": {
      "codemirror_mode": {
        "name": "ipython",
        "version": 3
      },
      "file_extension": ".py",
      "mimetype": "text/x-python",
      "name": "python",
      "nbconvert_exporter": "python",
      "pygments_lexer": "ipython3",
      "version": "3.11.4"
    }
  },
  "nbformat": 4,
  "nbformat_minor": 0
}
