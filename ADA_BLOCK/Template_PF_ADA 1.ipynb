{
  "nbformat": 4,
  "nbformat_minor": 0,
  "metadata": {
    "colab": {
      "provenance": []
    },
    "kernelspec": {
      "name": "python3",
      "display_name": "Python 3"
    },
    "language_info": {
      "name": "python"
    }
  },
  "cells": [
    {
      "cell_type": "markdown",
      "source": [
        "**Acceso a *ADA_BLOCK* Messaging Project**"
      ],
      "metadata": {
        "id": "mtvuCre9iuQL"
      }
    },
    {
      "cell_type": "code",
      "execution_count": 1,
      "metadata": {
        "colab": {
          "base_uri": "https://localhost:8080/"
        },
        "id": "83Tbo8tDitOn",
        "outputId": "5131fd82-b622-46b6-f315-c69b8ec028ac"
      },
      "outputs": [
        {
          "output_type": "stream",
          "name": "stdout",
          "text": [
            "CPU quota info:\n",
            "b'{\"daily_cpu_limit_seconds\":100,\"daily_cpu_total_usage_seconds\":0.0,\"next_reset_time\":\"2023-12-05T01:57:34\"}'\n"
          ]
        }
      ],
      "source": [
        "import requests\n",
        "username = 'jsgalan'\n",
        "token = '89600f38d62242540816d5dd1a7a043597e23187'\n",
        "\n",
        "response = requests.get(\n",
        "    'https://www.pythonanywhere.com/api/v0/user/{username}/cpu/'.format(\n",
        "        username=username\n",
        "    ),\n",
        "    headers={'Authorization': 'Token {token}'.format(token=token)}\n",
        ")\n",
        "if response.status_code == 200:\n",
        "    print('CPU quota info:')\n",
        "    print(response.content)\n",
        "else:\n",
        "    print('Got unexpected status code {}: {!r}'.format(response.status_code, response.content))\n"
      ]
    }
  ]
}